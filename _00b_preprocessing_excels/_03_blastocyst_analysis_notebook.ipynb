{
 "cells": [
  {
   "cell_type": "markdown",
   "id": "777284cc",
   "metadata": {},
   "source": [
    "# Blastocyst Proportions Analysis — Runnable Notebook\n",
    "\n",
    "**Nota:** il notebook non salva immagini (solo file di testo/risultati) — `SAVE_OUTPUTS = True` nella cella di configurazione.\n",
    "\n",
    "---\n",
    "### Cosa contiene\n",
    "- Setup e import\n",
    "- Caricamento e validazione dati\n",
    "- Elaborazione a livello paziente\n",
    "- Scatter plot (proporzione blastocisti vs età)\n",
    "- Boxplot per gruppi di età\n",
    "- Distribuzione età\n",
    "- Plot interattivo Plotly (mostrato inline)\n",
    "- Analisi statistica (GLM Binomiale) e salvataggio dei risultati\n",
    "- Salvataggio metadata\n"
   ]
  },
  {
   "cell_type": "code",
   "execution_count": 18,
   "id": "d727f8de",
   "metadata": {},
   "outputs": [
    {
     "name": "stdout",
     "output_type": "stream",
     "text": [
      "Using root: /home/phd2/Scrivania/CorsoRepo/cellPIV\n",
      "Imported conf from config.Config_00_preprocessing\n",
      "Paths:\n",
      " input_excel -> /home/phd2/Scrivania/CorsoRepo/cellPIV/datasets/DB morpheus UniPV.xlsx\n",
      " double_dish -> /home/phd2/Scrivania/CorsoRepo/cellPIV/datasets/pz con doppia dish.xlsx\n",
      " added_id CSV -> /home/phd2/Scrivania/CorsoRepo/cellPIV/datasets/DB_Morpheus_withID.csv\n",
      " valid_wells CSV -> /home/phd2/Scrivania/CorsoRepo/cellPIV/datasets/valid_wells_acquisition_times.csv\n",
      " filtered output -> /home/phd2/Scrivania/CorsoRepo/cellPIV/datasets/filtered_blasto_dataset.csv\n"
     ]
    }
   ],
   "source": [
    "\n",
    "# Setup imports e configurazione\n",
    "%matplotlib inline\n",
    "import warnings\n",
    "warnings.filterwarnings('ignore', category=FutureWarning)\n",
    "\n",
    "import os\n",
    "import sys\n",
    "from pathlib import Path\n",
    "import logging\n",
    "import pandas as pd\n",
    "import numpy as np\n",
    "from scipy import stats\n",
    "import matplotlib.pyplot as plt\n",
    "import seaborn as sns\n",
    "import plotly.express as px\n",
    "import statsmodels.api as sm\n",
    "from datetime import datetime\n",
    "\n",
    "# Logging\n",
    "logging.basicConfig(level=logging.INFO, format='%(asctime)s - %(levelname)s - %(message)s')\n",
    "\n",
    "# Opzioni di comportamento: impostare SAVE_OUTPUTS=True per salvare file di output (statistiche, metadata)\n",
    "SAVE_OUTPUTS = False\n",
    "\n",
    "# Trova la root 'cellPIV' come nello script originale (con fallback)\n",
    "cwd = Path().resolve()\n",
    "root = cwd\n",
    "for _ in range(10):\n",
    "    if root.name == 'cellPIV':\n",
    "        break\n",
    "    if root.parent == root:\n",
    "        break\n",
    "    root = root.parent\n",
    "\n",
    "fallback_root = Path('/home/phd2/Scrivania/CorsoRepo/cellPIV')\n",
    "if root.name != 'cellPIV':\n",
    "    root = fallback_root\n",
    "\n",
    "if str(root) not in sys.path:\n",
    "    sys.path.append(str(root))\n",
    "\n",
    "print('Using root:', root)\n",
    "\n",
    "# Prova a importare la config (se presente)\n",
    "try:\n",
    "    from config import Config_00_preprocessing as conf\n",
    "    print('Imported conf from config.Config_00_preprocessing')\n",
    "except Exception as e:\n",
    "    conf = None\n",
    "    print('Could not import conf (ok). Please set paths manually if needed.')\n",
    "\n",
    "# Imposta percorsi fallback coerenti con lo script originale\n",
    "base_dir = Path(conf.path_original_excel).parent if conf and hasattr(conf, 'path_original_excel') else Path('/home/phd2/Scrivania/CorsoRepo/cellPIV/_00b_preprocessing_excels')\n",
    "path_input_excel = Path(getattr(conf, 'path_original_excel', base_dir / 'original.xlsx'))\n",
    "path_double_dish = Path(getattr(conf, 'path_double_dish_excel', base_dir / 'double_dish.xlsx'))\n",
    "path_added_id = Path(getattr(conf, 'path_addedID_csv', base_dir / 'added_id.csv'))\n",
    "path_valid_wells = Path(getattr(conf, 'valid_wells_file', base_dir / 'datasets/valid_wells_acquisition_times.csv'))\n",
    "path_filtered = Path(getattr(conf, 'filtered_blasto_dataset', base_dir / 'filtered_table.csv'))\n",
    "\n",
    "print('Paths:')\n",
    "print(' input_excel ->', path_input_excel)\n",
    "print(' double_dish ->', path_double_dish)\n",
    "print(' added_id CSV ->', path_added_id)\n",
    "print(' valid_wells CSV ->', path_valid_wells)\n",
    "print(' filtered output ->', path_filtered)\n",
    "\n",
    "# Directory di output (modificabile)\n",
    "CURRENT_DIR = Path('.').resolve()\n",
    "DEFAULT_OUTPUT_DIR = CURRENT_DIR / \"blast_proportions_analysis\"\n"
   ]
  },
  {
   "cell_type": "code",
   "execution_count": 19,
   "id": "b60cce71",
   "metadata": {},
   "outputs": [],
   "source": [
    "# Definizione delle funzioni\n",
    "def load_and_validate_data(file_path):\n",
    "    logging.info(\"Loading and validating data\")\n",
    "    file_path = Path(file_path)\n",
    "    if not file_path.exists():\n",
    "        raise FileNotFoundError(f\"Input file not found: {file_path}\")\n",
    "    df = pd.read_csv(file_path)\n",
    "    required_columns = ['patient_id', 'maternal age', 'BLASTO NY']\n",
    "    missing_cols = [col for col in required_columns if col not in df.columns]\n",
    "    if missing_cols:\n",
    "        raise ValueError(f\"Missing required columns: {missing_cols}\")\n",
    "    df['maternal age'] = pd.to_numeric(df['maternal age'], errors='coerce')\n",
    "    df = df.dropna(subset=['maternal age', 'BLASTO NY'])\n",
    "    return df\n",
    "\n",
    "def process_patient_data(df):\n",
    "    logging.info(\"Processing patient data\")\n",
    "    patient_data = df.groupby('patient_id').agg(\n",
    "        age=('maternal age', 'first'),\n",
    "        blast_count=('BLASTO NY', 'sum'),\n",
    "        total_embryos=('BLASTO NY', 'count')\n",
    "    ).reset_index()\n",
    "    patient_data['proportion_blast'] = patient_data['blast_count'] / patient_data['total_embryos']\n",
    "    if (patient_data['total_embryos'] == 0).any():\n",
    "        raise ValueError(\"Found patients with 0 embryos - check data quality\")\n",
    "    if (patient_data['age'] < 18).any() or (patient_data['age'] > 50).any():\n",
    "        logging.warning(\"Unusual age values detected (<18 or >50)\")\n",
    "    return patient_data\n",
    "\n",
    "def generate_scatter_plots(data, save_dir=None, show=True):\n",
    "    logging.info(\"Generating scatter plots\")\n",
    "    plt.figure(figsize=(12, 7))\n",
    "    ax = sns.scatterplot(\n",
    "        data=data,\n",
    "        x='age',\n",
    "        y='proportion_blast',\n",
    "        size='total_embryos',\n",
    "        sizes=(20, 200),\n",
    "        alpha=0.6,\n",
    "        hue='total_embryos',\n",
    "        palette='viridis',\n",
    "        legend='full'\n",
    "    )\n",
    "    sns.regplot(data=data, x='age', y='proportion_blast', scatter=False, color='red', ci=95, label='Trend (95% CI)')\n",
    "    corr, pval = stats.pearsonr(data['age'], data['proportion_blast'])\n",
    "    plt.text(0.05, 0.95, f'Pearson r = {corr:.2f}\\\\np = {pval:.3f}', transform=ax.transAxes, bbox=dict(facecolor='white', alpha=0.8))\n",
    "    plt.title('Blastocyst Proportions by Maternal Age', fontsize=14)\n",
    "    plt.xlabel('Maternal Age (years)', fontsize=12)\n",
    "    plt.ylabel('Proportion of Blastocysts', fontsize=12)\n",
    "    legend = plt.legend(title='Embryo Count', bbox_to_anchor=(1.15, 1), loc='upper left', frameon=False, ncol=2, markerscale=0.8)\n",
    "    plt.subplots_adjust(right=0.78)\n",
    "    if save_dir and SAVE_OUTPUTS:\n",
    "        save_dir = Path(save_dir)\n",
    "        save_dir.mkdir(parents=True, exist_ok=True)\n",
    "        plt.savefig(save_dir / 'blast_proportion_scatter.png', dpi=300, bbox_inches='tight')\n",
    "    if show:\n",
    "        plt.show()\n",
    "    plt.close()\n",
    "\n",
    "def add_statistical_annotations(ax=None, data=None):\n",
    "    # This function assumes a current axes for the boxplot\n",
    "    if data is None:\n",
    "        return\n",
    "    groups = sorted(data['age_group'].unique())\n",
    "    pairs = [(groups[i], groups[j]) for i in range(len(groups)) for j in range(i+1, len(groups))]\n",
    "    group_data = [data[data['age_group'] == grp]['proportion_blast'] for grp in groups]\n",
    "    try:\n",
    "        f_val, p_val = stats.f_oneway(*group_data)\n",
    "        plt.text(0.95, 0.95, f'ANOVA: F = {f_val:.2f}\\\\np = {p_val:.3f}', transform=plt.gca().transAxes, ha='right', va='top', bbox=dict(facecolor='white', alpha=0.8))\n",
    "    except Exception as e:\n",
    "        logging.warning(f\"ANOVA failed: {e}\")\n",
    "\n",
    "def generate_boxplots(data, save_dir=None, show=True):\n",
    "    logging.info(\"Generating boxplots\")\n",
    "    data = data.copy()\n",
    "    data['age_group'] = pd.qcut(data['age'], q=4, precision=0)\n",
    "    plt.figure(figsize=(12, 7))\n",
    "    sns.boxplot(data=data, x='age_group', y='proportion_blast', showmeans=True)\n",
    "    sns.stripplot(data=data, x='age_group', y='proportion_blast', color='black', alpha=0.4, jitter=0.2)\n",
    "    add_statistical_annotations(data=data)\n",
    "    plt.title('Blastocyst Proportions by Age Group', fontsize=14)\n",
    "    plt.xlabel('Age Group', fontsize=12)\n",
    "    plt.ylabel('Proportion of Blastocysts', fontsize=12)\n",
    "    plt.tight_layout()\n",
    "    if save_dir and SAVE_OUTPUTS:\n",
    "        save_dir = Path(save_dir)\n",
    "        save_dir.mkdir(parents=True, exist_ok=True)\n",
    "        plt.savefig(save_dir / 'blast_proportion_boxplot.png', dpi=300)\n",
    "    if show:\n",
    "        plt.show()\n",
    "    plt.close()\n",
    "\n",
    "def generate_age_distribution(data, save_dir=None, show=True):\n",
    "    logging.info(\"Generating age distribution plot\")\n",
    "    plt.figure(figsize=(10, 5))\n",
    "    sns.histplot(data['age'], bins=20, kde=True)\n",
    "    plt.title('Maternal Age Distribution', fontsize=14)\n",
    "    plt.xlabel('Age (years)', fontsize=12)\n",
    "    plt.ylabel('Number of Patients', fontsize=12)\n",
    "    if save_dir and SAVE_OUTPUTS:\n",
    "        save_dir = Path(save_dir)\n",
    "        save_dir.mkdir(parents=True, exist_ok=True)\n",
    "        plt.savefig(save_dir / 'age_distribution.png', dpi=300)\n",
    "    if show:\n",
    "        plt.show()\n",
    "    plt.close()\n",
    "\n",
    "def generate_interactive_plot(data, save_dir=None, show=True):\n",
    "    logging.info(\"Generating interactive plot\")\n",
    "    fig = px.scatter(\n",
    "        data,\n",
    "        x='age',\n",
    "        y='proportion_blast',\n",
    "        size='total_embryos',\n",
    "        color='total_embryos',\n",
    "        hover_data=['patient_id', 'age', 'proportion_blast'],\n",
    "        trendline=\"lowess\",\n",
    "        title=\"Blastocyst Proportion Analysis\",\n",
    "        labels={'age': 'Maternal Age', 'proportion_blast': 'Blastocyst Proportion'}\n",
    "    )\n",
    "    fig.update_layout(\n",
    "        width=1200,\n",
    "        height=600\n",
    "    )\n",
    "\n",
    "    if save_dir and SAVE_OUTPUTS:\n",
    "        save_dir = Path(save_dir)\n",
    "        save_dir.mkdir(parents=True, exist_ok=True)\n",
    "        html_path = save_dir / \"interactive_plot.html\"\n",
    "        fig.write_html(str(html_path))\n",
    "        logging.info(f\"Interactive plot saved to {html_path}\")\n",
    "    if show:\n",
    "        fig.show()\n",
    "    return fig\n",
    "\n",
    "def perform_statistical_analysis(data, save_dir=None):\n",
    "    logging.info(\"Performing statistical analysis\")\n",
    "    X = sm.add_constant(data['age'])\n",
    "    # For binomial, we put successes and trials as a 2-column array\n",
    "    y = data[['blast_count', 'total_embryos']]\n",
    "    model = sm.GLM(y, X, family=sm.families.Binomial())\n",
    "    results = model.fit()\n",
    "    summary_text = results.summary().as_text()\n",
    "    key_stats = {\n",
    "        'pearson': stats.pearsonr(data['age'], data['proportion_blast']),\n",
    "        'average_proportion': data['proportion_blast'].mean(),\n",
    "        'median_age': data['age'].median()\n",
    "    }\n",
    "    if save_dir:\n",
    "        save_dir = Path(save_dir)\n",
    "        save_dir.mkdir(parents=True, exist_ok=True)\n",
    "        with open(save_dir / 'statistical_analysis.txt', 'w') as f:\n",
    "            f.write(\"Logistic Regression Results:\\n\")\n",
    "            f.write(summary_text)\n",
    "            f.write(\"\\n\\nKey Statistics:\\n\")\n",
    "            f.write(f\"- Pearson correlation: {key_stats['pearson']}\\n\")\n",
    "            f.write(f\"- Average proportion: {key_stats['average_proportion']:.2f}\\n\")\n",
    "            f.write(f\"- Median age: {key_stats['median_age']} years\\n\")\n",
    "    return results, key_stats\n",
    "\n"
   ]
  },
  {
   "cell_type": "code",
   "execution_count": 20,
   "id": "9b284a3e",
   "metadata": {},
   "outputs": [
    {
     "name": "stderr",
     "output_type": "stream",
     "text": [
      "2025-09-01 17:02:30,599 - INFO - Loading and validating data\n"
     ]
    },
    {
     "name": "stdout",
     "output_type": "stream",
     "text": [
      "Using input CSV: /home/phd2/Scrivania/CorsoRepo/cellPIV/datasets/DB_Morpheus_withID.csv\n",
      "Raw data preview:\n"
     ]
    },
    {
     "data": {
      "text/html": [
       "<div>\n",
       "<style scoped>\n",
       "    .dataframe tbody tr th:only-of-type {\n",
       "        vertical-align: middle;\n",
       "    }\n",
       "\n",
       "    .dataframe tbody tr th {\n",
       "        vertical-align: top;\n",
       "    }\n",
       "\n",
       "    .dataframe thead th {\n",
       "        text-align: right;\n",
       "    }\n",
       "</style>\n",
       "<table border=\"1\" class=\"dataframe\">\n",
       "  <thead>\n",
       "    <tr style=\"text-align: right;\">\n",
       "      <th></th>\n",
       "      <th>patient_id</th>\n",
       "      <th>dish</th>\n",
       "      <th>well</th>\n",
       "      <th>dish_well</th>\n",
       "      <th>maternal age</th>\n",
       "      <th>sperm quality</th>\n",
       "      <th>mezzo di coltura</th>\n",
       "      <th>PN</th>\n",
       "      <th>BLASTO NY</th>\n",
       "      <th>eup_aneup</th>\n",
       "      <th>...</th>\n",
       "      <th>t-biopsy</th>\n",
       "      <th>PN1a</th>\n",
       "      <th>PN2a</th>\n",
       "      <th>PN3a</th>\n",
       "      <th>altri Pna</th>\n",
       "      <th>PN1f</th>\n",
       "      <th>PN2f</th>\n",
       "      <th>PN3f</th>\n",
       "      <th>altri PNf</th>\n",
       "      <th>CP</th>\n",
       "    </tr>\n",
       "  </thead>\n",
       "  <tbody>\n",
       "    <tr>\n",
       "      <th>0</th>\n",
       "      <td>54</td>\n",
       "      <td>D2013.02.19_S0675_I141</td>\n",
       "      <td>1</td>\n",
       "      <td>D2013.02.19_S0675_I141_1</td>\n",
       "      <td>37</td>\n",
       "      <td>OAT</td>\n",
       "      <td>quinns</td>\n",
       "      <td>2PN</td>\n",
       "      <td>1</td>\n",
       "      <td>euploide</td>\n",
       "      <td>...</td>\n",
       "      <td>138.374</td>\n",
       "      <td>12.1802797222222</td>\n",
       "      <td>12.1802797222222</td>\n",
       "      <td>-</td>\n",
       "      <td>-</td>\n",
       "      <td>22.6847</td>\n",
       "      <td>22.6847</td>\n",
       "      <td>-</td>\n",
       "      <td>-</td>\n",
       "      <td>2</td>\n",
       "    </tr>\n",
       "    <tr>\n",
       "      <th>1</th>\n",
       "      <td>54</td>\n",
       "      <td>D2013.02.19_S0675_I141</td>\n",
       "      <td>2</td>\n",
       "      <td>D2013.02.19_S0675_I141_2</td>\n",
       "      <td>37</td>\n",
       "      <td>OAT</td>\n",
       "      <td>quinns</td>\n",
       "      <td>2PN</td>\n",
       "      <td>1</td>\n",
       "      <td>euploide</td>\n",
       "      <td>...</td>\n",
       "      <td>138.376</td>\n",
       "      <td>7.68124611111111</td>\n",
       "      <td>8.681685</td>\n",
       "      <td>-</td>\n",
       "      <td>-</td>\n",
       "      <td>24.1874161111111</td>\n",
       "      <td>23.9373102775</td>\n",
       "      <td>-</td>\n",
       "      <td>-</td>\n",
       "      <td>2</td>\n",
       "    </tr>\n",
       "    <tr>\n",
       "      <th>2</th>\n",
       "      <td>54</td>\n",
       "      <td>D2013.02.19_S0675_I141</td>\n",
       "      <td>3</td>\n",
       "      <td>D2013.02.19_S0675_I141_3</td>\n",
       "      <td>37</td>\n",
       "      <td>OAT</td>\n",
       "      <td>quinns</td>\n",
       "      <td>2PN</td>\n",
       "      <td>0</td>\n",
       "      <td>NaN</td>\n",
       "      <td>...</td>\n",
       "      <td>-</td>\n",
       "      <td>12.1851488888888</td>\n",
       "      <td>12.6853425</td>\n",
       "      <td>-</td>\n",
       "      <td>-</td>\n",
       "      <td>53.3</td>\n",
       "      <td>53.3</td>\n",
       "      <td>-</td>\n",
       "      <td>-</td>\n",
       "      <td>2</td>\n",
       "    </tr>\n",
       "    <tr>\n",
       "      <th>3</th>\n",
       "      <td>54</td>\n",
       "      <td>D2013.02.19_S0675_I141</td>\n",
       "      <td>4</td>\n",
       "      <td>D2013.02.19_S0675_I141_4</td>\n",
       "      <td>37</td>\n",
       "      <td>OAT</td>\n",
       "      <td>quinns</td>\n",
       "      <td>2PN</td>\n",
       "      <td>0</td>\n",
       "      <td>NaN</td>\n",
       "      <td>...</td>\n",
       "      <td>-</td>\n",
       "      <td>10.9372783333333</td>\n",
       "      <td>11.6874552777777</td>\n",
       "      <td>-</td>\n",
       "      <td>-</td>\n",
       "      <td>29.1958563888888</td>\n",
       "      <td>29.1958563888888</td>\n",
       "      <td>-</td>\n",
       "      <td>-</td>\n",
       "      <td>2</td>\n",
       "    </tr>\n",
       "    <tr>\n",
       "      <th>4</th>\n",
       "      <td>54</td>\n",
       "      <td>D2013.02.19_S0675_I141</td>\n",
       "      <td>5</td>\n",
       "      <td>D2013.02.19_S0675_I141_5</td>\n",
       "      <td>37</td>\n",
       "      <td>OAT</td>\n",
       "      <td>quinns</td>\n",
       "      <td>2PN</td>\n",
       "      <td>1</td>\n",
       "      <td>Aneuploide</td>\n",
       "      <td>...</td>\n",
       "      <td>138.384</td>\n",
       "      <td>9.43941388888888</td>\n",
       "      <td>9.93965416666666</td>\n",
       "      <td>-</td>\n",
       "      <td>-</td>\n",
       "      <td>25.1951988888888</td>\n",
       "      <td>25.1951988888888</td>\n",
       "      <td>-</td>\n",
       "      <td>-</td>\n",
       "      <td>2</td>\n",
       "    </tr>\n",
       "  </tbody>\n",
       "</table>\n",
       "<p>5 rows × 36 columns</p>\n",
       "</div>"
      ],
      "text/plain": [
       "   patient_id                    dish  well                 dish_well  \\\n",
       "0          54  D2013.02.19_S0675_I141     1  D2013.02.19_S0675_I141_1   \n",
       "1          54  D2013.02.19_S0675_I141     2  D2013.02.19_S0675_I141_2   \n",
       "2          54  D2013.02.19_S0675_I141     3  D2013.02.19_S0675_I141_3   \n",
       "3          54  D2013.02.19_S0675_I141     4  D2013.02.19_S0675_I141_4   \n",
       "4          54  D2013.02.19_S0675_I141     5  D2013.02.19_S0675_I141_5   \n",
       "\n",
       "   maternal age sperm quality mezzo di coltura   PN  BLASTO NY   eup_aneup  \\\n",
       "0            37           OAT           quinns  2PN          1    euploide   \n",
       "1            37           OAT           quinns  2PN          1    euploide   \n",
       "2            37           OAT           quinns  2PN          0         NaN   \n",
       "3            37           OAT           quinns  2PN          0         NaN   \n",
       "4            37           OAT           quinns  2PN          1  Aneuploide   \n",
       "\n",
       "   ... t-biopsy              PN1a              PN2a PN3a altri Pna  \\\n",
       "0  ...  138.374  12.1802797222222  12.1802797222222    -         -   \n",
       "1  ...  138.376  7.68124611111111          8.681685    -         -   \n",
       "2  ...        -  12.1851488888888        12.6853425    -         -   \n",
       "3  ...        -  10.9372783333333  11.6874552777777    -         -   \n",
       "4  ...  138.384  9.43941388888888  9.93965416666666    -         -   \n",
       "\n",
       "               PN1f              PN2f PN3f altri PNf CP  \n",
       "0           22.6847           22.6847    -         -  2  \n",
       "1  24.1874161111111     23.9373102775    -         -  2  \n",
       "2              53.3              53.3    -         -  2  \n",
       "3  29.1958563888888  29.1958563888888    -         -  2  \n",
       "4  25.1951988888888  25.1951988888888    -         -  2  \n",
       "\n",
       "[5 rows x 36 columns]"
      ]
     },
     "metadata": {},
     "output_type": "display_data"
    },
    {
     "name": "stdout",
     "output_type": "stream",
     "text": [
      "Rows: 6052, Columns: 36\n"
     ]
    }
   ],
   "source": [
    "# === Load raw CSV ===\n",
    "# Se conf è disponibile, usa path_added_id, altrimenti modifica qui sotto.\n",
    "input_csv = path_added_id if 'path_added_id' in globals() else Path('added_id.csv')\n",
    "print(\"Using input CSV:\", input_csv)\n",
    "raw_df = load_and_validate_data(input_csv)\n",
    "print(\"Raw data preview:\")\n",
    "display(raw_df.head())\n",
    "print(f\"Rows: {len(raw_df)}, Columns: {len(raw_df.columns)}\")\n"
   ]
  },
  {
   "cell_type": "code",
   "execution_count": 21,
   "id": "0f320888",
   "metadata": {},
   "outputs": [
    {
     "name": "stderr",
     "output_type": "stream",
     "text": [
      "2025-09-01 17:02:30,636 - INFO - Processing patient data\n"
     ]
    },
    {
     "name": "stdout",
     "output_type": "stream",
     "text": [
      "Patient-level data preview:\n"
     ]
    },
    {
     "data": {
      "text/html": [
       "<div>\n",
       "<style scoped>\n",
       "    .dataframe tbody tr th:only-of-type {\n",
       "        vertical-align: middle;\n",
       "    }\n",
       "\n",
       "    .dataframe tbody tr th {\n",
       "        vertical-align: top;\n",
       "    }\n",
       "\n",
       "    .dataframe thead th {\n",
       "        text-align: right;\n",
       "    }\n",
       "</style>\n",
       "<table border=\"1\" class=\"dataframe\">\n",
       "  <thead>\n",
       "    <tr style=\"text-align: right;\">\n",
       "      <th></th>\n",
       "      <th>patient_id</th>\n",
       "      <th>age</th>\n",
       "      <th>blast_count</th>\n",
       "      <th>total_embryos</th>\n",
       "      <th>proportion_blast</th>\n",
       "    </tr>\n",
       "  </thead>\n",
       "  <tbody>\n",
       "    <tr>\n",
       "      <th>0</th>\n",
       "      <td>1</td>\n",
       "      <td>38</td>\n",
       "      <td>7</td>\n",
       "      <td>12</td>\n",
       "      <td>0.583333</td>\n",
       "    </tr>\n",
       "    <tr>\n",
       "      <th>1</th>\n",
       "      <td>5</td>\n",
       "      <td>37</td>\n",
       "      <td>9</td>\n",
       "      <td>17</td>\n",
       "      <td>0.529412</td>\n",
       "    </tr>\n",
       "    <tr>\n",
       "      <th>2</th>\n",
       "      <td>7</td>\n",
       "      <td>34</td>\n",
       "      <td>2</td>\n",
       "      <td>8</td>\n",
       "      <td>0.250000</td>\n",
       "    </tr>\n",
       "    <tr>\n",
       "      <th>3</th>\n",
       "      <td>8</td>\n",
       "      <td>37</td>\n",
       "      <td>4</td>\n",
       "      <td>11</td>\n",
       "      <td>0.363636</td>\n",
       "    </tr>\n",
       "    <tr>\n",
       "      <th>4</th>\n",
       "      <td>9</td>\n",
       "      <td>40</td>\n",
       "      <td>3</td>\n",
       "      <td>8</td>\n",
       "      <td>0.375000</td>\n",
       "    </tr>\n",
       "  </tbody>\n",
       "</table>\n",
       "</div>"
      ],
      "text/plain": [
       "   patient_id  age  blast_count  total_embryos  proportion_blast\n",
       "0           1   38            7             12          0.583333\n",
       "1           5   37            9             17          0.529412\n",
       "2           7   34            2              8          0.250000\n",
       "3           8   37            4             11          0.363636\n",
       "4           9   40            3              8          0.375000"
      ]
     },
     "metadata": {},
     "output_type": "display_data"
    },
    {
     "name": "stdout",
     "output_type": "stream",
     "text": [
      "       patient_id         age  blast_count  total_embryos  proportion_blast\n",
      "count  836.000000  836.000000   836.000000     836.000000        836.000000\n",
      "mean   437.162679   38.855263     3.057416       7.239234          0.445662\n",
      "std    242.054351    3.256957     1.967778       3.286363          0.225456\n",
      "min      1.000000   23.000000     0.000000       1.000000          0.000000\n",
      "25%    228.750000   37.000000     2.000000       5.000000          0.267045\n",
      "50%    437.500000   39.000000     3.000000       7.000000          0.416667\n",
      "75%    646.250000   41.000000     4.000000      10.000000          0.583333\n",
      "max    855.000000   46.000000    11.000000      17.000000          1.000000\n"
     ]
    }
   ],
   "source": [
    "# === Process patient-level data ===\n",
    "patient_data = process_patient_data(raw_df)\n",
    "print(\"Patient-level data preview:\")\n",
    "display(patient_data.head())\n",
    "print(patient_data.describe(include='all'))"
   ]
  },
  {
   "cell_type": "code",
   "execution_count": 22,
   "id": "9fd2b42f",
   "metadata": {},
   "outputs": [
    {
     "name": "stderr",
     "output_type": "stream",
     "text": [
      "2025-09-01 17:02:30,649 - INFO - Generating scatter plots\n"
     ]
    },
    {
     "data": {
      "image/png": "[encoded data removed]",
      "text/plain": [
       "<Figure size 1200x700 with 1 Axes>"
      ]
     },
     "metadata": {},
     "output_type": "display_data"
    }
   ],
   "source": [
    "# === Scatter plot: Proportion vs Age ===\n",
    "OUTPUT_DIR = DEFAULT_OUTPUT_DIR\n",
    "generate_scatter_plots(patient_data, save_dir=OUTPUT_DIR, show=True)\n"
   ]
  },
  {
   "cell_type": "code",
   "execution_count": 30,
   "id": "396337be",
   "metadata": {},
   "outputs": [
    {
     "name": "stderr",
     "output_type": "stream",
     "text": [
      "2025-09-01 17:03:01,494 - INFO - Generating boxplots\n"
     ]
    },
    {
     "data": {
      "image/png": "[encoded data removed]",
      "text/plain": [
       "<Figure size 1200x700 with 1 Axes>"
      ]
     },
     "metadata": {},
     "output_type": "display_data"
    }
   ],
   "source": [
    "# === Boxplot per gruppi di età ===\n",
    "generate_boxplots(patient_data, save_dir=OUTPUT_DIR, show=True)"
   ]
  },
  {
   "cell_type": "code",
   "execution_count": 24,
   "id": "331edb12",
   "metadata": {},
   "outputs": [
    {
     "name": "stderr",
     "output_type": "stream",
     "text": [
      "2025-09-01 17:02:30,854 - INFO - Generating age distribution plot\n"
     ]
    },
    {
     "data": {
      "image/png": "[encoded data removed]",
      "text/plain": [
       "<Figure size 1000x500 with 1 Axes>"
      ]
     },
     "metadata": {},
     "output_type": "display_data"
    }
   ],
   "source": [
    "# === Distribuzione età ===\n",
    "generate_age_distribution(patient_data, save_dir=OUTPUT_DIR, show=True)\n"
   ]
  },
  {
   "cell_type": "code",
   "execution_count": 25,
   "id": "f79d1fe4",
   "metadata": {},
   "outputs": [
    {
     "name": "stderr",
     "output_type": "stream",
     "text": [
      "2025-09-01 17:02:30,930 - INFO - Generating interactive plot\n"
     ]
    },
    {
     "data": {
      "application/vnd.plotly.v1+json": {
       "config": {
        "plotlyServerURL": "https://plot.ly"
       },
       "data": [
        {
         "customdata": [
          [
           1
          ],
          [
           5
          ],
          [
           7
          ],
          [
           8
          ],
          [
           9
          ],
          [
           10
          ],
          [
           11
          ],
          [
           12
          ],
          [
           13
          ],
          [
           15
          ],
          [
           16
          ],
          [
           18
          ],
          [
           22
          ],
          [
           24
          ],
          [
           26
          ],
          [
           27
          ],
          [
           28
          ],
          [
           29
          ],
          [
           30
          ],
          [
           31
          ],
          [
           35
          ],
          [
           36
          ],
          [
           37
          ],
          [
           38
          ],
          [
           42
          ],
          [
           43
          ],
          [
           44
          ],
          [
           45
          ],
          [
           47
          ],
          [
           48
          ],
          [
           49
          ],
          [
           50
          ],
          [
           51
          ],
          [
           52
          ],
          [
           54
          ],
          [
           55
          ],
          [
           56
          ],
          [
           57
          ],
          [
           58
          ],
          [
           59
          ],
          [
           60
          ],
          [
           61
          ],
          [
           62
          ],
          [
           63
          ],
          [
           64
          ],
          [
           65
          ],
          [
           66
          ],
          [
           67
          ],
          [
           68
          ],
          [
           69
          ],
          [
           70
          ],
          [
           71
          ],
          [
           72
          ],
          [
           73
          ],
          [
           74
          ],
          [
           75
          ],
          [
           76
          ],
          [
           77
          ],
          [
           78
          ],
          [
           79
          ],
          [
           80
          ],
          [
           81
          ],
          [
           82
          ],
          [
           83
          ],
          [
           84
          ],
          [
           85
          ],
          [
           86
          ],
          [
           87
          ],
          [
           88
          ],
          [
           89
          ],
          [
           90
          ],
          [
           91
          ],
          [
           92
          ],
          [
           93
          ],
          [
           94
          ],
          [
           95
          ],
          [
           96
          ],
          [
           97
          ],
          [
           98
          ],
          [
           99
          ],
          [
           100
          ],
          [
           101
          ],
          [
           102
          ],
          [
           103
          ],
          [
           104
          ],
          [
           105
          ],
          [
           106
          ],
          [
           107
          ],
          [
           108
          ],
          [
           109
          ],
          [
           110
          ],
          [
           111
          ],
          [
           112
          ],
          [
           113
          ],
          [
           114
          ],
          [
           115
          ],
          [
           116
          ],
          [
           117
          ],
          [
           118
          ],
          [
           119
          ],
          [
           120
          ],
          [
           121
          ],
          [
           122
          ],
          [
           123
          ],
          [
           124
          ],
          [
           125
          ],
          [
           126
          ],
          [
           127
          ],
          [
           128
          ],
          [
           129
          ],
          [
           130
          ],
          [
           131
          ],
          [
           132
          ],
          [
           133
          ],
          [
           134
          ],
          [
           135
          ],
          [
           136
          ],
          [
           137
          ],
          [
           138
          ],
          [
           139
          ],
          [
           140
          ],
          [
           141
          ],
          [
           142
          ],
          [
           143
          ],
          [
           144
          ],
          [
           145
          ],
          [
           146
          ],
          [
           147
          ],
          [
           148
          ],
          [
           149
          ],
          [
           150
          ],
          [
           151
          ],
          [
           152
          ],
          [
           153
          ],
          [
           154
          ],
          [
           155
          ],
          [
           156
          ],
          [
           157
          ],
          [
           158
          ],
          [
           159
          ],
          [
           160
          ],
          [
           161
          ],
          [
           162
          ],
          [
           163
          ],
          [
           164
          ],
          [
           165
          ],
          [
           166
          ],
          [
           167
          ],
          [
           168
          ],
          [
           169
          ],
          [
           170
          ],
          [
           171
          ],
          [
           172
          ],
          [
           173
          ],
          [
           174
          ],
          [
           175
          ],
          [
           176
          ],
          [
           177
          ],
          [
           178
          ],
          [
           179
          ],
          [
           180
          ],
          [
           181
          ],
          [
           182
          ],
          [
           183
          ],
          [
           184
          ],
          [
           185
          ],
          [
           186
          ],
          [
           187
          ],
          [
           188
          ],
          [
           189
          ],
          [
           190
          ],
          [
           191
          ],
          [
           192
          ],
          [
           193
          ],
          [
           194
          ],
          [
           195
          ],
          [
           196
          ],
          [
           197
          ],
          [
           198
          ],
          [
           199
          ],
          [
           200
          ],
          [
           201
          ],
          [
           202
          ],
          [
           203
          ],
          [
           204
          ],
          [
           205
          ],
          [
           206
          ],
          [
           207
          ],
          [
           208
          ],
          [
           209
          ],
          [
           210
          ],
          [
           211
          ],
          [
           212
          ],
          [
           213
          ],
          [
           214
          ],
          [
           215
          ],
          [
           216
          ],
          [
           217
          ],
          [
           218
          ],
          [
           219
          ],
          [
           220
          ],
          [
           221
          ],
          [
           222
          ],
          [
           223
          ],
          [
           224
          ],
          [
           225
          ],
          [
           226
          ],
          [
           227
          ],
          [
           228
          ],
          [
           229
          ],
          [
           230
          ],
          [
           231
          ],
          [
           232
          ],
          [
           233
          ],
          [
           234
          ],
          [
           235
          ],
          [
           236
          ],
          [
           237
          ],
          [
           238
          ],
          [
           239
          ],
          [
           240
          ],
          [
           241
          ],
          [
           242
          ],
          [
           243
          ],
          [
           244
          ],
          [
           245
          ],
          [
           246
          ],
          [
           247
          ],
          [
           248
          ],
          [
           249
          ],
          [
           250
          ],
          [
           251
          ],
          [
           252
          ],
          [
           253
          ],
          [
           254
          ],
          [
           255
          ],
          [
           256
          ],
          [
           257
          ],
          [
           258
          ],
          [
           259
          ],
          [
           260
          ],
          [
           261
          ],
          [
           262
          ],
          [
           263
          ],
          [
           264
          ],
          [
           265
          ],
          [
           266
          ],
          [
           267
          ],
          [
           268
          ],
          [
           269
          ],
          [
           270
          ],
          [
           271
          ],
          [
           272
          ],
          [
           273
          ],
          [
           274
          ],
          [
           275
          ],
          [
           276
          ],
          [
           277
          ],
          [
           278
          ],
          [
           279
          ],
          [
           280
          ],
          [
           281
          ],
          [
           282
          ],
          [
           283
          ],
          [
           284
          ],
          [
           285
          ],
          [
           286
          ],
          [
           287
          ],
          [
           288
          ],
          [
           289
          ],
          [
           290
          ],
          [
           291
          ],
          [
           292
          ],
          [
           293
          ],
          [
           294
          ],
          [
           295
          ],
          [
           296
          ],
          [
           297
          ],
          [
           298
          ],
          [
           299
          ],
          [
           300
          ],
          [
           301
          ],
          [
           302
          ],
          [
           303
          ],
          [
           304
          ],
          [
           305
          ],
          [
           306
          ],
          [
           307
          ],
          [
           308
          ],
          [
           309
          ],
          [
           310
          ],
          [
           311
          ],
          [
           312
          ],
          [
           313
          ],
          [
           314
          ],
          [
           315
          ],
          [
           316
          ],
          [
           317
          ],
          [
           318
          ],
          [
           319
          ],
          [
           320
          ],
          [
           321
          ],
          [
           322
          ],
          [
           323
          ],
          [
           324
          ],
          [
           325
          ],
          [
           326
          ],
          [
           327
          ],
          [
           328
          ],
          [
           329
          ],
          [
           330
          ],
          [
           331
          ],
          [
           332
          ],
          [
           333
          ],
          [
           334
          ],
          [
           335
          ],
          [
           336
          ],
          [
           337
          ],
          [
           338
          ],
          [
           339
          ],
          [
           340
          ],
          [
           341
          ],
          [
           342
          ],
          [
           343
          ],
          [
           344
          ],
          [
           345
          ],
          [
           346
          ],
          [
           347
          ],
          [
           348
          ],
          [
           349
          ],
          [
           350
          ],
          [
           351
          ],
          [
           352
          ],
          [
           353
          ],
          [
           354
          ],
          [
           355
          ],
          [
           356
          ],
          [
           357
          ],
          [
           358
          ],
          [
           359
          ],
          [
           360
          ],
          [
           361
          ],
          [
           362
          ],
          [
           363
          ],
          [
           364
          ],
          [
           365
          ],
          [
           366
          ],
          [
           367
          ],
          [
           368
          ],
          [
           369
          ],
          [
           370
          ],
          [
           371
          ],
          [
           372
          ],
          [
           373
          ],
          [
           374
          ],
          [
           375
          ],
          [
           376
          ],
          [
           377
          ],
          [
           378
          ],
          [
           379
          ],
          [
           380
          ],
          [
           381
          ],
          [
           382
          ],
          [
           383
          ],
          [
           384
          ],
          [
           385
          ],
          [
           386
          ],
          [
           387
          ],
          [
           388
          ],
          [
           389
          ],
          [
           390
          ],
          [
           391
          ],
          [
           392
          ],
          [
           393
          ],
          [
           394
          ],
          [
           395
          ],
          [
           396
          ],
          [
           397
          ],
          [
           398
          ],
          [
           399
          ],
          [
           400
          ],
          [
           401
          ],
          [
           402
          ],
          [
           403
          ],
          [
           404
          ],
          [
           405
          ],
          [
           406
          ],
          [
           407
          ],
          [
           408
          ],
          [
           409
          ],
          [
           410
          ],
          [
           411
          ],
          [
           412
          ],
          [
           413
          ],
          [
           414
          ],
          [
           415
          ],
          [
           416
          ],
          [
           417
          ],
          [
           418
          ],
          [
           419
          ],
          [
           420
          ],
          [
           421
          ],
          [
           422
          ],
          [
           423
          ],
          [
           424
          ],
          [
           425
          ],
          [
           426
          ],
          [
           427
          ],
          [
           428
          ],
          [
           429
          ],
          [
           430
          ],
          [
           431
          ],
          [
           432
          ],
          [
           433
          ],
          [
           434
          ],
          [
           435
          ],
          [
           436
          ],
          [
           437
          ],
          [
           438
          ],
          [
           439
          ],
          [
           440
          ],
          [
           441
          ],
          [
           442
          ],
          [
           443
          ],
          [
           444
          ],
          [
           445
          ],
          [
           446
          ],
          [
           447
          ],
          [
           448
          ],
          [
           449
          ],
          [
           450
          ],
          [
           451
          ],
          [
           452
          ],
          [
           453
          ],
          [
           454
          ],
          [
           455
          ],
          [
           456
          ],
          [
           457
          ],
          [
           458
          ],
          [
           459
          ],
          [
           460
          ],
          [
           461
          ],
          [
           462
          ],
          [
           463
          ],
          [
           464
          ],
          [
           465
          ],
          [
           466
          ],
          [
           467
          ],
          [
           468
          ],
          [
           469
          ],
          [
           470
          ],
          [
           471
          ],
          [
           472
          ],
          [
           473
          ],
          [
           474
          ],
          [
           475
          ],
          [
           476
          ],
          [
           477
          ],
          [
           478
          ],
          [
           479
          ],
          [
           480
          ],
          [
           481
          ],
          [
           482
          ],
          [
           483
          ],
          [
           484
          ],
          [
           485
          ],
          [
           486
          ],
          [
           487
          ],
          [
           488
          ],
          [
           489
          ],
          [
           490
          ],
          [
           491
          ],
          [
           492
          ],
          [
           493
          ],
          [
           494
          ],
          [
           495
          ],
          [
           496
          ],
          [
           497
          ],
          [
           498
          ],
          [
           499
          ],
          [
           500
          ],
          [
           501
          ],
          [
           502
          ],
          [
           503
          ],
          [
           504
          ],
          [
           505
          ],
          [
           506
          ],
          [
           507
          ],
          [
           508
          ],
          [
           509
          ],
          [
           510
          ],
          [
           511
          ],
          [
           512
          ],
          [
           513
          ],
          [
           514
          ],
          [
           515
          ],
          [
           516
          ],
          [
           517
          ],
          [
           518
          ],
          [
           519
          ],
          [
           520
          ],
          [
           521
          ],
          [
           522
          ],
          [
           523
          ],
          [
           524
          ],
          [
           525
          ],
          [
           526
          ],
          [
           527
          ],
          [
           528
          ],
          [
           529
          ],
          [
           530
          ],
          [
           531
          ],
          [
           532
          ],
          [
           533
          ],
          [
           534
          ],
          [
           535
          ],
          [
           536
          ],
          [
           537
          ],
          [
           538
          ],
          [
           539
          ],
          [
           540
          ],
          [
           541
          ],
          [
           542
          ],
          [
           543
          ],
          [
           544
          ],
          [
           545
          ],
          [
           546
          ],
          [
           547
          ],
          [
           548
          ],
          [
           549
          ],
          [
           550
          ],
          [
           551
          ],
          [
           552
          ],
          [
           553
          ],
          [
           554
          ],
          [
           555
          ],
          [
           556
          ],
          [
           557
          ],
          [
           558
          ],
          [
           559
          ],
          [
           560
          ],
          [
           561
          ],
          [
           562
          ],
          [
           563
          ],
          [
           564
          ],
          [
           565
          ],
          [
           566
          ],
          [
           567
          ],
          [
           568
          ],
          [
           569
          ],
          [
           570
          ],
          [
           571
          ],
          [
           572
          ],
          [
           573
          ],
          [
           574
          ],
          [
           575
          ],
          [
           576
          ],
          [
           577
          ],
          [
           578
          ],
          [
           579
          ],
          [
           580
          ],
          [
           581
          ],
          [
           582
          ],
          [
           583
          ],
          [
           584
          ],
          [
           585
          ],
          [
           586
          ],
          [
           587
          ],
          [
           588
          ],
          [
           589
          ],
          [
           590
          ],
          [
           591
          ],
          [
           592
          ],
          [
           593
          ],
          [
           594
          ],
          [
           595
          ],
          [
           596
          ],
          [
           597
          ],
          [
           598
          ],
          [
           599
          ],
          [
           600
          ],
          [
           601
          ],
          [
           602
          ],
          [
           603
          ],
          [
           604
          ],
          [
           605
          ],
          [
           606
          ],
          [
           607
          ],
          [
           608
          ],
          [
           609
          ],
          [
           610
          ],
          [
           611
          ],
          [
           612
          ],
          [
           613
          ],
          [
           614
          ],
          [
           615
          ],
          [
           616
          ],
          [
           617
          ],
          [
           618
          ],
          [
           619
          ],
          [
           620
          ],
          [
           621
          ],
          [
           622
          ],
          [
           623
          ],
          [
           624
          ],
          [
           625
          ],
          [
           626
          ],
          [
           627
          ],
          [
           628
          ],
          [
           629
          ],
          [
           630
          ],
          [
           631
          ],
          [
           632
          ],
          [
           633
          ],
          [
           634
          ],
          [
           635
          ],
          [
           636
          ],
          [
           637
          ],
          [
           638
          ],
          [
           639
          ],
          [
           640
          ],
          [
           641
          ],
          [
           642
          ],
          [
           643
          ],
          [
           644
          ],
          [
           645
          ],
          [
           646
          ],
          [
           647
          ],
          [
           648
          ],
          [
           649
          ],
          [
           650
          ],
          [
           651
          ],
          [
           652
          ],
          [
           653
          ],
          [
           654
          ],
          [
           655
          ],
          [
           656
          ],
          [
           657
          ],
          [
           658
          ],
          [
           659
          ],
          [
           660
          ],
          [
           661
          ],
          [
           662
          ],
          [
           663
          ],
          [
           664
          ],
          [
           665
          ],
          [
           666
          ],
          [
           667
          ],
          [
           668
          ],
          [
           669
          ],
          [
           670
          ],
          [
           671
          ],
          [
           672
          ],
          [
           673
          ],
          [
           674
          ],
          [
           675
          ],
          [
           676
          ],
          [
           677
          ],
          [
           678
          ],
          [
           679
          ],
          [
           680
          ],
          [
           681
          ],
          [
           682
          ],
          [
           683
          ],
          [
           684
          ],
          [
           685
          ],
          [
           686
          ],
          [
           687
          ],
          [
           688
          ],
          [
           689
          ],
          [
           690
          ],
          [
           691
          ],
          [
           692
          ],
          [
           693
          ],
          [
           694
          ],
          [
           695
          ],
          [
           696
          ],
          [
           697
          ],
          [
           698
          ],
          [
           699
          ],
          [
           700
          ],
          [
           701
          ],
          [
           702
          ],
          [
           703
          ],
          [
           704
          ],
          [
           705
          ],
          [
           706
          ],
          [
           707
          ],
          [
           708
          ],
          [
           709
          ],
          [
           710
          ],
          [
           711
          ],
          [
           712
          ],
          [
           713
          ],
          [
           714
          ],
          [
           715
          ],
          [
           716
          ],
          [
           717
          ],
          [
           718
          ],
          [
           719
          ],
          [
           720
          ],
          [
           721
          ],
          [
           722
          ],
          [
           723
          ],
          [
           724
          ],
          [
           725
          ],
          [
           726
          ],
          [
           727
          ],
          [
           728
          ],
          [
           729
          ],
          [
           730
          ],
          [
           731
          ],
          [
           732
          ],
          [
           733
          ],
          [
           734
          ],
          [
           735
          ],
          [
           736
          ],
          [
           737
          ],
          [
           738
          ],
          [
           739
          ],
          [
           740
          ],
          [
           741
          ],
          [
           742
          ],
          [
           743
          ],
          [
           744
          ],
          [
           745
          ],
          [
           746
          ],
          [
           747
          ],
          [
           748
          ],
          [
           749
          ],
          [
           750
          ],
          [
           751
          ],
          [
           752
          ],
          [
           753
          ],
          [
           754
          ],
          [
           755
          ],
          [
           756
          ],
          [
           757
          ],
          [
           758
          ],
          [
           759
          ],
          [
           760
          ],
          [
           761
          ],
          [
           762
          ],
          [
           763
          ],
          [
           764
          ],
          [
           765
          ],
          [
           766
          ],
          [
           767
          ],
          [
           768
          ],
          [
           769
          ],
          [
           770
          ],
          [
           771
          ],
          [
           772
          ],
          [
           773
          ],
          [
           774
          ],
          [
           775
          ],
          [
           776
          ],
          [
           777
          ],
          [
           778
          ],
          [
           779
          ],
          [
           780
          ],
          [
           781
          ],
          [
           782
          ],
          [
           783
          ],
          [
           784
          ],
          [
           785
          ],
          [
           786
          ],
          [
           787
          ],
          [
           788
          ],
          [
           789
          ],
          [
           790
          ],
          [
           791
          ],
          [
           792
          ],
          [
           793
          ],
          [
           794
          ],
          [
           795
          ],
          [
           796
          ],
          [
           797
          ],
          [
           798
          ],
          [
           799
          ],
          [
           800
          ],
          [
           801
          ],
          [
           802
          ],
          [
           803
          ],
          [
           804
          ],
          [
           805
          ],
          [
           806
          ],
          [
           807
          ],
          [
           808
          ],
          [
           809
          ],
          [
           810
          ],
          [
           811
          ],
          [
           812
          ],
          [
           813
          ],
          [
           814
          ],
          [
           815
          ],
          [
           816
          ],
          [
           817
          ],
          [
           818
          ],
          [
           819
          ],
          [
           820
          ],
          [
           821
          ],
          [
           822
          ],
          [
           823
          ],
          [
           824
          ],
          [
           825
          ],
          [
           826
          ],
          [
           827
          ],
          [
           828
          ],
          [
           829
          ],
          [
           830
          ],
          [
           831
          ],
          [
           832
          ],
          [
           833
          ],
          [
           834
          ],
          [
           835
          ],
          [
           836
          ],
          [
           837
          ],
          [
           838
          ],
          [
           839
          ],
          [
           840
          ],
          [
           841
          ],
          [
           842
          ],
          [
           843
          ],
          [
           844
          ],
          [
           845
          ],
          [
           846
          ],
          [
           847
          ],
          [
           848
          ],
          [
           849
          ],
          [
           850
          ],
          [
           851
          ],
          [
           852
          ],
          [
           853
          ],
          [
           854
          ],
          [
           855
          ]
         ],
         "hovertemplate": "Maternal Age=%{x}<br>Blastocyst Proportion=%{y}<br>total_embryos=%{marker.color}<br>patient_id=%{customdata[0]}<extra></extra>",
         "legendgroup": "",
         "marker": {
          "color": [
           12,
           17,
           8,
           11,
           8,
           12,
           6,
           10,
           12,
           11,
           12,
           12,
           3,
           12,
           12,
           12,
           12,
           5,
           7,
           4,
           2,
           16,
           4,
           12,
           6,
           5,
           5,
           12,
           12,
           4,
           12,
           12,
           2,
           12,
           9,
           11,
           7,
           7,
           4,
           12,
           8,
           5,
           11,
           9,
           12,
           10,
           5,
           4,
           6,
           10,
           12,
           4,
           7,
           9,
           4,
           5,
           8,
           12,
           3,
           6,
           12,
           7,
           7,
           10,
           6,
           10,
           7,
           5,
           5,
           10,
           4,
           7,
           6,
           8,
           6,
           12,
           11,
           10,
           11,
           10,
           12,
           12,
           9,
           7,
           9,
           10,
           12,
           5,
           6,
           5,
           6,
           8,
           10,
           12,
           4,
           12,
           5,
           10,
           4,
           6,
           11,
           12,
           5,
           4,
           6,
           5,
           11,
           11,
           5,
           7,
           1,
           12,
           9,
           4,
           12,
           12,
           12,
           11,
           8,
           3,
           5,
           5,
           11,
           2,
           6,
           6,
           5,
           6,
           7,
           12,
           4,
           6,
           2,
           6,
           1,
           7,
           9,
           10,
           4,
           12,
           8,
           5,
           10,
           11,
           5,
           8,
           3,
           5,
           8,
           8,
           12,
           3,
           7,
           6,
           5,
           7,
           10,
           6,
           12,
           12,
           4,
           5,
           3,
           12,
           5,
           10,
           4,
           5,
           7,
           5,
           6,
           4,
           6,
           5,
           11,
           10,
           8,
           12,
           2,
           6,
           7,
           6,
           8,
           9,
           6,
           4,
           6,
           9,
           12,
           3,
           6,
           5,
           4,
           12,
           2,
           10,
           8,
           3,
           7,
           12,
           4,
           8,
           12,
           3,
           11,
           6,
           11,
           8,
           12,
           6,
           11,
           8,
           12,
           12,
           3,
           6,
           12,
           7,
           8,
           12,
           12,
           9,
           7,
           4,
           7,
           12,
           9,
           10,
           12,
           2,
           11,
           6,
           12,
           12,
           9,
           5,
           12,
           12,
           4,
           5,
           10,
           8,
           12,
           7,
           8,
           7,
           6,
           9,
           4,
           12,
           5,
           5,
           8,
           11,
           3,
           7,
           5,
           6,
           5,
           8,
           12,
           3,
           4,
           12,
           7,
           11,
           2,
           5,
           3,
           9,
           7,
           12,
           8,
           6,
           4,
           3,
           4,
           5,
           3,
           12,
           2,
           7,
           8,
           2,
           3,
           4,
           12,
           7,
           7,
           9,
           10,
           7,
           5,
           12,
           3,
           1,
           2,
           3,
           8,
           4,
           3,
           9,
           3,
           2,
           7,
           7,
           7,
           12,
           10,
           6,
           10,
           12,
           9,
           5,
           4,
           9,
           3,
           6,
           10,
           8,
           11,
           7,
           7,
           7,
           9,
           3,
           2,
           5,
           12,
           5,
           3,
           4,
           10,
           12,
           8,
           2,
           6,
           12,
           2,
           3,
           6,
           3,
           4,
           3,
           9,
           5,
           11,
           6,
           4,
           3,
           8,
           3,
           12,
           2,
           2,
           9,
           2,
           5,
           5,
           12,
           6,
           4,
           3,
           10,
           4,
           6,
           2,
           9,
           9,
           7,
           3,
           10,
           12,
           4,
           12,
           11,
           4,
           12,
           10,
           3,
           12,
           12,
           4,
           11,
           9,
           4,
           10,
           12,
           12,
           2,
           5,
           12,
           6,
           10,
           3,
           4,
           3,
           7,
           10,
           12,
           4,
           9,
           7,
           9,
           12,
           2,
           8,
           2,
           2,
           7,
           5,
           12,
           10,
           6,
           12,
           8,
           7,
           5,
           12,
           9,
           7,
           2,
           7,
           5,
           3,
           3,
           12,
           7,
           9,
           7,
           6,
           8,
           8,
           11,
           3,
           12,
           12,
           12,
           5,
           11,
           12,
           4,
           8,
           9,
           6,
           12,
           7,
           4,
           2,
           10,
           12,
           7,
           10,
           12,
           6,
           11,
           12,
           12,
           7,
           8,
           2,
           4,
           7,
           11,
           3,
           5,
           4,
           9,
           7,
           5,
           12,
           5,
           12,
           6,
           3,
           7,
           7,
           5,
           8,
           8,
           6,
           6,
           9,
           9,
           5,
           7,
           6,
           6,
           8,
           6,
           4,
           4,
           12,
           9,
           8,
           6,
           7,
           3,
           5,
           3,
           6,
           2,
           9,
           12,
           12,
           9,
           6,
           3,
           9,
           9,
           6,
           6,
           10,
           10,
           12,
           12,
           7,
           7,
           8,
           4,
           6,
           9,
           3,
           12,
           10,
           7,
           7,
           11,
           11,
           3,
           6,
           11,
           11,
           6,
           3,
           7,
           12,
           4,
           8,
           7,
           11,
           4,
           7,
           12,
           12,
           7,
           2,
           3,
           7,
           1,
           12,
           12,
           11,
           3,
           4,
           12,
           9,
           4,
           6,
           11,
           9,
           5,
           10,
           11,
           5,
           5,
           2,
           1,
           5,
           12,
           12,
           10,
           9,
           12,
           12,
           6,
           5,
           8,
           5,
           9,
           12,
           5,
           8,
           5,
           9,
           11,
           9,
           4,
           3,
           8,
           12,
           5,
           5,
           4,
           5,
           8,
           6,
           8,
           10,
           5,
           5,
           12,
           6,
           12,
           10,
           12,
           9,
           7,
           9,
           12,
           9,
           12,
           4,
           10,
           12,
           9,
           11,
           7,
           12,
           5,
           6,
           12,
           6,
           5,
           6,
           10,
           12,
           7,
           9,
           6,
           2,
           11,
           3,
           6,
           10,
           11,
           4,
           8,
           6,
           12,
           10,
           6,
           10,
           3,
           11,
           9,
           12,
           9,
           3,
           5,
           2,
           9,
           12,
           10,
           6,
           5,
           7,
           6,
           6,
           9,
           12,
           8,
           7,
           6,
           3,
           9,
           10,
           11,
           6,
           5,
           2,
           2,
           9,
           6,
           8,
           8,
           7,
           10,
           4,
           3,
           8,
           8,
           6,
           12,
           4,
           4,
           5,
           11,
           12,
           7,
           9,
           3,
           3,
           4,
           9,
           7,
           2,
           6,
           2,
           3,
           4,
           2,
           4,
           7,
           2,
           5,
           8,
           8,
           5,
           1,
           5,
           2,
           6,
           2,
           6,
           5,
           5,
           3,
           12,
           3,
           11,
           12,
           7,
           12,
           4,
           11,
           3,
           4,
           8,
           2,
           2,
           11,
           2,
           8,
           8,
           8,
           4,
           12,
           4,
           3,
           12,
           3,
           8,
           9,
           3,
           6,
           4,
           6,
           10,
           8,
           11,
           4,
           9,
           12,
           3,
           4,
           12,
           2,
           9,
           5,
           8,
           5,
           4,
           8,
           4,
           7,
           7,
           4,
           2,
           8,
           4,
           8,
           7,
           5,
           1,
           8,
           5,
           4,
           5,
           3,
           2,
           10,
           6,
           4,
           12,
           2,
           8,
           7,
           10,
           4,
           4,
           2,
           7,
           5,
           9,
           11,
           12,
           3,
           4,
           11,
           2,
           5,
           5,
           12,
           7,
           12,
           6,
           12,
           5,
           3,
           2,
           6,
           5,
           7,
           5,
           9,
           12,
           5,
           9,
           8,
           4,
           12,
           12,
           2,
           6,
           12,
           6,
           4,
           4,
           7,
           4,
           2,
           8,
           6,
           4,
           3
          ],
          "coloraxis": "coloraxis",
          "size": [
           12,
           17,
           8,
           11,
           8,
           12,
           6,
           10,
           12,
           11,
           12,
           12,
           3,
           12,
           12,
           12,
           12,
           5,
           7,
           4,
           2,
           16,
           4,
           12,
           6,
           5,
           5,
           12,
           12,
           4,
           12,
           12,
           2,
           12,
           9,
           11,
           7,
           7,
           4,
           12,
           8,
           5,
           11,
           9,
           12,
           10,
           5,
           4,
           6,
           10,
           12,
           4,
           7,
           9,
           4,
           5,
           8,
           12,
           3,
           6,
           12,
           7,
           7,
           10,
           6,
           10,
           7,
           5,
           5,
           10,
           4,
           7,
           6,
           8,
           6,
           12,
           11,
           10,
           11,
           10,
           12,
           12,
           9,
           7,
           9,
           10,
           12,
           5,
           6,
           5,
           6,
           8,
           10,
           12,
           4,
           12,
           5,
           10,
           4,
           6,
           11,
           12,
           5,
           4,
           6,
           5,
           11,
           11,
           5,
           7,
           1,
           12,
           9,
           4,
           12,
           12,
           12,
           11,
           8,
           3,
           5,
           5,
           11,
           2,
           6,
           6,
           5,
           6,
           7,
           12,
           4,
           6,
           2,
           6,
           1,
           7,
           9,
           10,
           4,
           12,
           8,
           5,
           10,
           11,
           5,
           8,
           3,
           5,
           8,
           8,
           12,
           3,
           7,
           6,
           5,
           7,
           10,
           6,
           12,
           12,
           4,
           5,
           3,
           12,
           5,
           10,
           4,
           5,
           7,
           5,
           6,
           4,
           6,
           5,
           11,
           10,
           8,
           12,
           2,
           6,
           7,
           6,
           8,
           9,
           6,
           4,
           6,
           9,
           12,
           3,
           6,
           5,
           4,
           12,
           2,
           10,
           8,
           3,
           7,
           12,
           4,
           8,
           12,
           3,
           11,
           6,
           11,
           8,
           12,
           6,
           11,
           8,
           12,
           12,
           3,
           6,
           12,
           7,
           8,
           12,
           12,
           9,
           7,
           4,
           7,
           12,
           9,
           10,
           12,
           2,
           11,
           6,
           12,
           12,
           9,
           5,
           12,
           12,
           4,
           5,
           10,
           8,
           12,
           7,
           8,
           7,
           6,
           9,
           4,
           12,
           5,
           5,
           8,
           11,
           3,
           7,
           5,
           6,
           5,
           8,
           12,
           3,
           4,
           12,
           7,
           11,
           2,
           5,
           3,
           9,
           7,
           12,
           8,
           6,
           4,
           3,
           4,
           5,
           3,
           12,
           2,
           7,
           8,
           2,
           3,
           4,
           12,
           7,
           7,
           9,
           10,
           7,
           5,
           12,
           3,
           1,
           2,
           3,
           8,
           4,
           3,
           9,
           3,
           2,
           7,
           7,
           7,
           12,
           10,
           6,
           10,
           12,
           9,
           5,
           4,
           9,
           3,
           6,
           10,
           8,
           11,
           7,
           7,
           7,
           9,
           3,
           2,
           5,
           12,
           5,
           3,
           4,
           10,
           12,
           8,
           2,
           6,
           12,
           2,
           3,
           6,
           3,
           4,
           3,
           9,
           5,
           11,
           6,
           4,
           3,
           8,
           3,
           12,
           2,
           2,
           9,
           2,
           5,
           5,
           12,
           6,
           4,
           3,
           10,
           4,
           6,
           2,
           9,
           9,
           7,
           3,
           10,
           12,
           4,
           12,
           11,
           4,
           12,
           10,
           3,
           12,
           12,
           4,
           11,
           9,
           4,
           10,
           12,
           12,
           2,
           5,
           12,
           6,
           10,
           3,
           4,
           3,
           7,
           10,
           12,
           4,
           9,
           7,
           9,
           12,
           2,
           8,
           2,
           2,
           7,
           5,
           12,
           10,
           6,
           12,
           8,
           7,
           5,
           12,
           9,
           7,
           2,
           7,
           5,
           3,
           3,
           12,
           7,
           9,
           7,
           6,
           8,
           8,
           11,
           3,
           12,
           12,
           12,
           5,
           11,
           12,
           4,
           8,
           9,
           6,
           12,
           7,
           4,
           2,
           10,
           12,
           7,
           10,
           12,
           6,
           11,
           12,
           12,
           7,
           8,
           2,
           4,
           7,
           11,
           3,
           5,
           4,
           9,
           7,
           5,
           12,
           5,
           12,
           6,
           3,
           7,
           7,
           5,
           8,
           8,
           6,
           6,
           9,
           9,
           5,
           7,
           6,
           6,
           8,
           6,
           4,
           4,
           12,
           9,
           8,
           6,
           7,
           3,
           5,
           3,
           6,
           2,
           9,
           12,
           12,
           9,
           6,
           3,
           9,
           9,
           6,
           6,
           10,
           10,
           12,
           12,
           7,
           7,
           8,
           4,
           6,
           9,
           3,
           12,
           10,
           7,
           7,
           11,
           11,
           3,
           6,
           11,
           11,
           6,
           3,
           7,
           12,
           4,
           8,
           7,
           11,
           4,
           7,
           12,
           12,
           7,
           2,
           3,
           7,
           1,
           12,
           12,
           11,
           3,
           4,
           12,
           9,
           4,
           6,
           11,
           9,
           5,
           10,
           11,
           5,
           5,
           2,
           1,
           5,
           12,
           12,
           10,
           9,
           12,
           12,
           6,
           5,
           8,
           5,
           9,
           12,
           5,
           8,
           5,
           9,
           11,
           9,
           4,
           3,
           8,
           12,
           5,
           5,
           4,
           5,
           8,
           6,
           8,
           10,
           5,
           5,
           12,
           6,
           12,
           10,
           12,
           9,
           7,
           9,
           12,
           9,
           12,
           4,
           10,
           12,
           9,
           11,
           7,
           12,
           5,
           6,
           12,
           6,
           5,
           6,
           10,
           12,
           7,
           9,
           6,
           2,
           11,
           3,
           6,
           10,
           11,
           4,
           8,
           6,
           12,
           10,
           6,
           10,
           3,
           11,
           9,
           12,
           9,
           3,
           5,
           2,
           9,
           12,
           10,
           6,
           5,
           7,
           6,
           6,
           9,
           12,
           8,
           7,
           6,
           3,
           9,
           10,
           11,
           6,
           5,
           2,
           2,
           9,
           6,
           8,
           8,
           7,
           10,
           4,
           3,
           8,
           8,
           6,
           12,
           4,
           4,
           5,
           11,
           12,
           7,
           9,
           3,
           3,
           4,
           9,
           7,
           2,
           6,
           2,
           3,
           4,
           2,
           4,
           7,
           2,
           5,
           8,
           8,
           5,
           1,
           5,
           2,
           6,
           2,
           6,
           5,
           5,
           3,
           12,
           3,
           11,
           12,
           7,
           12,
           4,
           11,
           3,
           4,
           8,
           2,
           2,
           11,
           2,
           8,
           8,
           8,
           4,
           12,
           4,
           3,
           12,
           3,
           8,
           9,
           3,
           6,
           4,
           6,
           10,
           8,
           11,
           4,
           9,
           12,
           3,
           4,
           12,
           2,
           9,
           5,
           8,
           5,
           4,
           8,
           4,
           7,
           7,
           4,
           2,
           8,
           4,
           8,
           7,
           5,
           1,
           8,
           5,
           4,
           5,
           3,
           2,
           10,
           6,
           4,
           12,
           2,
           8,
           7,
           10,
           4,
           4,
           2,
           7,
           5,
           9,
           11,
           12,
           3,
           4,
           11,
           2,
           5,
           5,
           12,
           7,
           12,
           6,
           12,
           5,
           3,
           2,
           6,
           5,
           7,
           5,
           9,
           12,
           5,
           9,
           8,
           4,
           12,
           12,
           2,
           6,
           12,
           6,
           4,
           4,
           7,
           4,
           2,
           8,
           6,
           4,
           3
          ],
          "sizemode": "area",
          "sizeref": 0.0425,
          "symbol": "circle"
         },
         "mode": "markers",
         "name": "",
         "orientation": "v",
         "showlegend": false,
         "type": "scatter",
         "x": [
          38,
          37,
          34,
          37,
          40,
          38,
          36,
          38,
          36,
          30,
          40,
          31,
          43,
          43,
          36,
          42,
          40,
          42,
          43,
          44,
          39,
          34,
          36,
          38,
          37,
          36,
          42,
          36,
          36,
          42,
          36,
          34,
          41,
          38,
          37,
          40,
          43,
          41,
          43,
          36,
          41,
          39,
          35,
          39,
          37,
          43,
          41,
          40,
          41,
          38,
          39,
          40,
          40,
          28,
          40,
          35,
          43,
          40,
          40,
          38,
          37,
          36,
          34,
          37,
          42,
          45,
          42,
          40,
          40,
          41,
          36,
          40,
          42,
          38,
          42,
          40,
          44,
          38,
          38,
          42,
          39,
          40,
          38,
          39,
          39,
          43,
          35,
          39,
          42,
          38,
          40,
          41,
          42,
          44,
          39,
          38,
          37,
          41,
          38,
          37,
          43,
          41,
          41,
          35,
          42,
          41,
          39,
          44,
          38,
          42,
          39,
          42,
          39,
          40,
          43,
          42,
          41,
          43,
          41,
          43,
          42,
          41,
          39,
          43,
          42,
          38,
          42,
          44,
          43,
          39,
          43,
          37,
          43,
          41,
          37,
          40,
          39,
          38,
          40,
          40,
          41,
          39,
          43,
          38,
          42,
          38,
          32,
          41,
          41,
          38,
          36,
          23,
          41,
          40,
          40,
          43,
          39,
          40,
          38,
          40,
          42,
          41,
          39,
          33,
          41,
          42,
          36,
          40,
          34,
          42,
          42,
          37,
          38,
          37,
          39,
          37,
          38,
          43,
          42,
          43,
          34,
          39,
          43,
          37,
          40,
          38,
          38,
          34,
          40,
          41,
          41,
          38,
          41,
          36,
          43,
          41,
          42,
          42,
          42,
          40,
          32,
          36,
          38,
          44,
          42,
          38,
          26,
          35,
          35,
          43,
          40,
          39,
          37,
          36,
          37,
          43,
          35,
          40,
          37,
          44,
          37,
          34,
          42,
          36,
          40,
          37,
          37,
          40,
          40,
          40,
          42,
          34,
          40,
          37,
          39,
          42,
          38,
          37,
          38,
          45,
          41,
          39,
          41,
          42,
          35,
          40,
          39,
          37,
          35,
          36,
          40,
          36,
          36,
          42,
          40,
          34,
          42,
          35,
          40,
          40,
          35,
          41,
          42,
          38,
          40,
          40,
          40,
          42,
          41,
          41,
          41,
          36,
          37,
          39,
          43,
          38,
          40,
          37,
          43,
          34,
          38,
          37,
          40,
          37,
          42,
          40,
          38,
          42,
          42,
          40,
          39,
          41,
          31,
          40,
          41,
          40,
          41,
          41,
          39,
          38,
          41,
          40,
          37,
          39,
          44,
          40,
          37,
          34,
          37,
          40,
          38,
          44,
          42,
          37,
          40,
          39,
          41,
          39,
          42,
          37,
          39,
          43,
          38,
          37,
          42,
          41,
          43,
          42,
          36,
          40,
          44,
          40,
          36,
          35,
          41,
          41,
          32,
          42,
          34,
          42,
          39,
          32,
          36,
          37,
          40,
          35,
          33,
          38,
          36,
          32,
          40,
          41,
          40,
          41,
          39,
          40,
          43,
          43,
          37,
          40,
          40,
          36,
          43,
          41,
          40,
          37,
          36,
          42,
          41,
          39,
          43,
          37,
          35,
          32,
          34,
          31,
          37,
          38,
          40,
          41,
          36,
          34,
          37,
          36,
          37,
          43,
          34,
          36,
          35,
          41,
          40,
          44,
          40,
          35,
          43,
          44,
          40,
          37,
          34,
          39,
          35,
          39,
          39,
          37,
          38,
          42,
          38,
          44,
          39,
          44,
          31,
          40,
          33,
          42,
          34,
          37,
          37,
          42,
          36,
          38,
          32,
          34,
          39,
          45,
          35,
          39,
          42,
          38,
          41,
          37,
          41,
          38,
          42,
          37,
          38,
          34,
          36,
          39,
          37,
          36,
          37,
          35,
          40,
          40,
          36,
          31,
          36,
          38,
          39,
          40,
          29,
          39,
          33,
          44,
          44,
          36,
          45,
          41,
          30,
          42,
          38,
          41,
          46,
          38,
          39,
          43,
          39,
          37,
          37,
          41,
          41,
          37,
          41,
          37,
          41,
          39,
          37,
          43,
          38,
          39,
          43,
          38,
          42,
          37,
          41,
          37,
          43,
          41,
          43,
          40,
          42,
          36,
          35,
          38,
          39,
          38,
          37,
          40,
          40,
          43,
          40,
          35,
          38,
          40,
          36,
          42,
          37,
          30,
          40,
          42,
          37,
          42,
          44,
          31,
          40,
          28,
          40,
          37,
          45,
          38,
          39,
          34,
          40,
          36,
          37,
          41,
          39,
          40,
          35,
          35,
          41,
          41,
          35,
          42,
          41,
          32,
          39,
          40,
          36,
          45,
          39,
          39,
          38,
          40,
          33,
          40,
          38,
          36,
          36,
          36,
          40,
          42,
          43,
          35,
          32,
          36,
          40,
          37,
          45,
          39,
          36,
          40,
          37,
          36,
          41,
          36,
          37,
          41,
          41,
          34,
          36,
          36,
          38,
          36,
          38,
          42,
          38,
          38,
          42,
          43,
          33,
          42,
          38,
          43,
          36,
          37,
          36,
          39,
          40,
          39,
          39,
          36,
          38,
          39,
          35,
          35,
          33,
          39,
          38,
          29,
          36,
          37,
          38,
          40,
          42,
          37,
          35,
          41,
          37,
          35,
          42,
          37,
          34,
          40,
          32,
          36,
          35,
          42,
          37,
          39,
          41,
          39,
          42,
          36,
          36,
          26,
          33,
          39,
          43,
          38,
          38,
          35,
          35,
          42,
          39,
          36,
          41,
          31,
          39,
          36,
          40,
          40,
          40,
          42,
          42,
          35,
          41,
          37,
          43,
          39,
          40,
          41,
          32,
          43,
          39,
          44,
          36,
          45,
          43,
          33,
          40,
          42,
          36,
          39,
          43,
          39,
          44,
          42,
          39,
          39,
          39,
          39,
          42,
          39,
          43,
          37,
          39,
          42,
          39,
          37,
          39,
          32,
          42,
          35,
          41,
          41,
          34,
          42,
          40,
          38,
          33,
          40,
          39,
          41,
          35,
          43,
          41,
          42,
          39,
          43,
          44,
          40,
          38,
          41,
          40,
          42,
          41,
          38,
          35,
          36,
          45,
          42,
          37,
          40,
          41,
          42,
          41,
          42,
          36,
          41,
          38,
          40,
          44,
          36,
          38,
          37,
          33,
          35,
          41,
          35,
          33,
          42,
          33,
          39,
          40,
          40,
          37,
          40,
          39,
          40,
          38,
          40,
          35,
          39,
          43,
          43,
          42,
          39,
          41,
          39,
          30,
          41,
          33,
          44,
          39,
          41,
          39,
          39,
          37,
          42,
          39,
          33,
          39,
          41,
          39,
          41,
          38,
          34,
          43,
          41,
          38,
          42,
          35,
          43,
          43,
          44,
          44,
          44,
          41,
          35,
          41,
          42,
          42,
          37,
          33,
          35,
          37,
          36,
          38,
          37,
          42,
          41,
          37,
          39,
          39,
          41,
          40,
          39,
          39,
          43,
          42,
          44,
          31,
          38,
          40,
          40,
          43,
          38,
          42,
          39,
          43,
          37,
          38,
          36,
          42,
          43,
          31,
          43,
          35,
          43,
          43,
          31,
          35,
          37,
          36,
          41,
          40,
          39,
          42,
          37,
          37,
          43,
          38,
          44,
          37,
          39
         ],
         "xaxis": "x",
         "y": [
          0.5833333333333334,
          0.5294117647058824,
          0.25,
          0.36363636363636365,
          0.375,
          0.16666666666666666,
          0.3333333333333333,
          0.7,
          0.5833333333333334,
          0.8181818181818182,
          0.6666666666666666,
          0.75,
          0.3333333333333333,
          0.08333333333333333,
          0.4166666666666667,
          0.16666666666666666,
          0.5833333333333334,
          0.4,
          0.2857142857142857,
          0.25,
          1,
          0.25,
          0.5,
          0.4166666666666667,
          0.3333333333333333,
          0.4,
          0.4,
          0.5833333333333334,
          0.3333333333333333,
          0.25,
          0.4166666666666667,
          0.5,
          0.5,
          0.6666666666666666,
          0.5555555555555556,
          0.45454545454545453,
          0.5714285714285714,
          0.2857142857142857,
          0.75,
          0.25,
          0.125,
          0.8,
          0.2727272727272727,
          0.3333333333333333,
          0.16666666666666666,
          0.6,
          0.2,
          0.25,
          0.5,
          0.3,
          0.16666666666666666,
          0.75,
          0.14285714285714285,
          0.3333333333333333,
          0.5,
          0.6,
          0.125,
          0.4166666666666667,
          0.3333333333333333,
          0.3333333333333333,
          0.3333333333333333,
          0.2857142857142857,
          0.42857142857142855,
          0.4,
          0.16666666666666666,
          0.2,
          0.14285714285714285,
          0.2,
          0.4,
          0.5,
          0.5,
          0.14285714285714285,
          0.5,
          0.375,
          0.3333333333333333,
          0.16666666666666666,
          0.09090909090909091,
          0.4,
          0.2727272727272727,
          0.5,
          0.3333333333333333,
          0.16666666666666666,
          0.6666666666666666,
          0.2857142857142857,
          0.2222222222222222,
          0.3,
          0.16666666666666666,
          0.4,
          0.5,
          0.4,
          0.3333333333333333,
          0.375,
          0.6,
          0.25,
          0.5,
          0.3333333333333333,
          0.2,
          0.2,
          0.75,
          0.3333333333333333,
          0.18181818181818182,
          0.16666666666666666,
          0.4,
          0.25,
          0.16666666666666666,
          1,
          0.36363636363636365,
          0.5454545454545454,
          0.2,
          0.5714285714285714,
          0,
          0.4166666666666667,
          0.3333333333333333,
          0,
          0.25,
          0.16666666666666666,
          0.6666666666666666,
          0.36363636363636365,
          0.125,
          0.6666666666666666,
          0.2,
          0.2,
          0.2727272727272727,
          0.5,
          0.5,
          0.6666666666666666,
          0.6,
          0.16666666666666666,
          0.14285714285714285,
          0.3333333333333333,
          0.5,
          0.16666666666666666,
          0.5,
          0.6666666666666666,
          1,
          0.2857142857142857,
          0.4444444444444444,
          0.5,
          0.25,
          0.16666666666666666,
          0.25,
          0.6,
          0.4,
          0.36363636363636365,
          0.2,
          0.625,
          0,
          0.6,
          0.125,
          0.25,
          0.9166666666666666,
          0.6666666666666666,
          0.7142857142857143,
          0.3333333333333333,
          0.4,
          0.14285714285714285,
          0.6,
          0.3333333333333333,
          0.5833333333333334,
          0.5,
          0.5,
          0.4,
          0.6666666666666666,
          0.3333333333333333,
          0.4,
          0.1,
          0.5,
          0.8,
          0.5714285714285714,
          0.2,
          0.16666666666666666,
          0.75,
          0.3333333333333333,
          0.8,
          0.45454545454545453,
          0.3,
          0.375,
          0.3333333333333333,
          1,
          0.16666666666666666,
          0.42857142857142855,
          0.5,
          0.25,
          0.6666666666666666,
          0.5,
          0.75,
          0.5,
          0.5555555555555556,
          0.16666666666666666,
          0.6666666666666666,
          0.3333333333333333,
          0.2,
          0.25,
          0.25,
          1,
          0.3,
          0.25,
          0.3333333333333333,
          0.14285714285714285,
          0.3333333333333333,
          0.25,
          0.375,
          0.5,
          0.6666666666666666,
          0.09090909090909091,
          0.6666666666666666,
          0.18181818181818182,
          0.5,
          0.4166666666666667,
          0.3333333333333333,
          0.18181818181818182,
          0.75,
          0.5833333333333334,
          0.16666666666666666,
          1,
          0.3333333333333333,
          0.5833333333333334,
          0.42857142857142855,
          0.125,
          0.25,
          0.6666666666666666,
          0.2222222222222222,
          0.7142857142857143,
          0.25,
          0.42857142857142855,
          0.75,
          0.4444444444444444,
          0.4,
          0.25,
          0.5,
          0.36363636363636365,
          0.6666666666666666,
          0.08333333333333333,
          0.5,
          0.2222222222222222,
          0.2,
          0.4166666666666667,
          0.08333333333333333,
          0.75,
          0.2,
          0.6,
          0.25,
          0,
          0.2857142857142857,
          0.875,
          0.7142857142857143,
          0.16666666666666666,
          0.5555555555555556,
          0.5,
          0.25,
          0.6,
          0.4,
          0.625,
          0.6363636363636364,
          0.3333333333333333,
          0.42857142857142855,
          0.2,
          0.5,
          0.8,
          0.5,
          0.08333333333333333,
          0.6666666666666666,
          0.75,
          0.4166666666666667,
          0.2857142857142857,
          0.45454545454545453,
          0,
          0.6,
          0.3333333333333333,
          0.2222222222222222,
          0.2857142857142857,
          0.5833333333333334,
          0.625,
          0.6666666666666666,
          0.5,
          0.6666666666666666,
          0.5,
          1,
          0.3333333333333333,
          0.5,
          0.5,
          0.42857142857142855,
          0.625,
          0.5,
          0.6666666666666666,
          0.25,
          0.3333333333333333,
          0.2857142857142857,
          0.42857142857142855,
          0.4444444444444444,
          0.1,
          0.2857142857142857,
          0.4,
          0.16666666666666666,
          0.6666666666666666,
          1,
          0.5,
          0.3333333333333333,
          0.375,
          0.25,
          0.3333333333333333,
          0.2222222222222222,
          0.3333333333333333,
          1,
          0.42857142857142855,
          0.2857142857142857,
          0.8571428571428571,
          0.8333333333333334,
          0.5,
          0.5,
          0.4,
          0.25,
          0.3333333333333333,
          0.6,
          0.5,
          0.2222222222222222,
          0.3333333333333333,
          0.3333333333333333,
          0.1,
          0.625,
          0.36363636363636365,
          0.5714285714285714,
          0.42857142857142855,
          0.42857142857142855,
          0.1111111111111111,
          0.6666666666666666,
          1,
          0.6,
          0.5,
          0.2,
          0.6666666666666666,
          0.75,
          0.4,
          0.08333333333333333,
          0.5,
          0.5,
          0.8333333333333334,
          0.5,
          0.5,
          0.6666666666666666,
          0.16666666666666666,
          0.6666666666666666,
          0.5,
          0.6666666666666666,
          0.6666666666666666,
          0.2,
          0.45454545454545453,
          0.6666666666666666,
          0.25,
          0.6666666666666666,
          0.5,
          0.3333333333333333,
          0.25,
          0.5,
          1,
          0.3333333333333333,
          0.5,
          0.2,
          0.2,
          0.4166666666666667,
          0.6666666666666666,
          1,
          0.6666666666666666,
          0.4,
          0.25,
          0.5,
          0.5,
          0.2222222222222222,
          0.2222222222222222,
          0.2857142857142857,
          0.3333333333333333,
          0.4,
          0.4166666666666667,
          0.5,
          0.3333333333333333,
          0.5454545454545454,
          0.25,
          0.4166666666666667,
          0.4,
          1,
          0.25,
          0.6666666666666666,
          0,
          0.36363636363636365,
          0.5555555555555556,
          0.25,
          0.6,
          0.5833333333333334,
          0.25,
          1,
          0.4,
          0.25,
          0.16666666666666666,
          0.5,
          0.3333333333333333,
          0.5,
          0.3333333333333333,
          0.5714285714285714,
          0.3,
          0.4166666666666667,
          0.25,
          0.3333333333333333,
          0.5714285714285714,
          0.3333333333333333,
          0.75,
          1,
          0.5,
          0.5,
          0,
          0.14285714285714285,
          0.2,
          0.16666666666666666,
          0.4,
          0.3333333333333333,
          0.16666666666666666,
          0.5,
          0.5714285714285714,
          0.4,
          0.4166666666666667,
          0.5555555555555556,
          0.42857142857142855,
          1,
          0.2857142857142857,
          0.4,
          0.3333333333333333,
          0.6666666666666666,
          0.08333333333333333,
          0.42857142857142855,
          0.5555555555555556,
          0.7142857142857143,
          0.3333333333333333,
          0.5,
          0.625,
          0.8181818181818182,
          0,
          0.3333333333333333,
          0.3333333333333333,
          0.4166666666666667,
          0.6,
          0.09090909090909091,
          0.4166666666666667,
          0.75,
          0.5,
          0.2222222222222222,
          0.16666666666666666,
          0.16666666666666666,
          0.7142857142857143,
          0.75,
          0.5,
          0.6,
          0.25,
          0.2857142857142857,
          0.4,
          0.08333333333333333,
          0.16666666666666666,
          0.7272727272727273,
          0.08333333333333333,
          0.25,
          0.5714285714285714,
          0.25,
          1,
          0.5,
          0.5714285714285714,
          0.45454545454545453,
          0.3333333333333333,
          0.2,
          0.25,
          0.1111111111111111,
          0.5714285714285714,
          0.6,
          0.6666666666666666,
          0.4,
          0.16666666666666666,
          0.6666666666666666,
          0.3333333333333333,
          0.8571428571428571,
          0.5714285714285714,
          0.6,
          0.625,
          0.125,
          0.16666666666666666,
          0.3333333333333333,
          0.3333333333333333,
          0.2222222222222222,
          0.8,
          0.42857142857142855,
          0.3333333333333333,
          0.6666666666666666,
          0.375,
          0.6666666666666666,
          0.5,
          0.75,
          0.5,
          0.4444444444444444,
          0.125,
          0.5,
          0.5714285714285714,
          0.3333333333333333,
          0.6,
          1,
          0.5,
          0.5,
          0.5555555555555556,
          0.5,
          0.16666666666666666,
          0.2222222222222222,
          1,
          0.3333333333333333,
          0.3333333333333333,
          0.1111111111111111,
          0.8333333333333334,
          0.8333333333333334,
          0.2,
          0.5,
          0.9166666666666666,
          0.16666666666666666,
          0.14285714285714285,
          0.42857142857142855,
          0.125,
          0.5,
          0.6666666666666666,
          0.6666666666666666,
          1,
          0.6666666666666666,
          0.4,
          0.42857142857142855,
          0.2857142857142857,
          0.18181818181818182,
          0.5454545454545454,
          0.3333333333333333,
          0.3333333333333333,
          0.36363636363636365,
          0.2727272727272727,
          0.16666666666666666,
          0,
          0.7142857142857143,
          0.3333333333333333,
          0.25,
          0.75,
          0.2857142857142857,
          0.36363636363636365,
          0.25,
          0.2857142857142857,
          0.5,
          0.5,
          0.42857142857142855,
          0.5,
          1,
          1,
          1,
          0.3333333333333333,
          0.6666666666666666,
          0.18181818181818182,
          0.6666666666666666,
          0.75,
          0.4166666666666667,
          0.4444444444444444,
          0.5,
          0.3333333333333333,
          0.5454545454545454,
          0.4444444444444444,
          0.4,
          0.5,
          0.5454545454545454,
          0.6,
          0.6,
          1,
          1,
          0.2,
          0.75,
          0.08333333333333333,
          0.3,
          0.6666666666666666,
          0.08333333333333333,
          0.5,
          0.3333333333333333,
          0.2,
          0.375,
          0.2,
          0.4444444444444444,
          0.3333333333333333,
          0.2,
          0.875,
          0.2,
          0.6666666666666666,
          0.9090909090909091,
          0.4444444444444444,
          0.5,
          0.3333333333333333,
          0.625,
          0.75,
          0.6,
          0.2,
          0.5,
          1,
          0.25,
          0.3333333333333333,
          0.5,
          0.4,
          0.8,
          0.4,
          0.5833333333333334,
          0.5,
          0.5,
          0.5,
          0.3333333333333333,
          0.6666666666666666,
          0.5714285714285714,
          0.3333333333333333,
          0.3333333333333333,
          0.5555555555555556,
          0.5,
          0.25,
          0.5,
          0.75,
          0.4444444444444444,
          0.7272727272727273,
          0.2857142857142857,
          0.5,
          0.6,
          0.16666666666666666,
          0.4166666666666667,
          0.16666666666666666,
          0.4,
          0.8333333333333334,
          0.5,
          0.3333333333333333,
          0.14285714285714285,
          0.3333333333333333,
          0.16666666666666666,
          0.5,
          0.2727272727272727,
          0.3333333333333333,
          0.16666666666666666,
          0.5,
          0.36363636363636365,
          0.25,
          0.625,
          0.5,
          0.4166666666666667,
          0.5,
          0.5,
          0.1,
          0.3333333333333333,
          0.36363636363636365,
          0.1111111111111111,
          0.3333333333333333,
          0.7777777777777778,
          0.6666666666666666,
          0.6,
          1,
          0.5555555555555556,
          0.16666666666666666,
          0.7,
          0.3333333333333333,
          0.4,
          0.7142857142857143,
          0.3333333333333333,
          0.6666666666666666,
          0.4444444444444444,
          0.5,
          0.25,
          0.42857142857142855,
          0.5,
          0.3333333333333333,
          0.5555555555555556,
          0.2,
          0.2727272727272727,
          0.3333333333333333,
          0.2,
          1,
          0.5,
          0.2222222222222222,
          0.3333333333333333,
          0.25,
          0.625,
          0.42857142857142855,
          0.3,
          0.25,
          1,
          0.25,
          0.5,
          0.5,
          0.6666666666666666,
          0.25,
          0.25,
          0.4,
          0.36363636363636365,
          0.6666666666666666,
          0.5714285714285714,
          0.5555555555555556,
          0.3333333333333333,
          1,
          0.75,
          0.6666666666666666,
          0.42857142857142855,
          1,
          0.6666666666666666,
          0.5,
          0.6666666666666666,
          0.5,
          0.5,
          0.25,
          0.2857142857142857,
          0.5,
          0.2,
          0.625,
          0.75,
          1,
          0,
          0.2,
          1,
          0.6666666666666666,
          0.5,
          0.8333333333333334,
          0.2,
          0.6,
          0.6666666666666666,
          0.16666666666666666,
          0.3333333333333333,
          0.18181818181818182,
          0.4166666666666667,
          0.42857142857142855,
          0.6666666666666666,
          1,
          0.2727272727272727,
          0.3333333333333333,
          1,
          0.5,
          0.5,
          0.5,
          0.18181818181818182,
          1,
          0.5,
          0.625,
          0.5,
          0.25,
          0.5833333333333334,
          0.25,
          0.3333333333333333,
          0.25,
          0.3333333333333333,
          0.5,
          0.5555555555555556,
          0.6666666666666666,
          0.6666666666666666,
          0.5,
          0.8333333333333334,
          0.3,
          0.5,
          0.36363636363636365,
          0.5,
          0.4444444444444444,
          0.25,
          0.6666666666666666,
          0.75,
          0.5,
          0.5,
          0.8888888888888888,
          0.4,
          0.25,
          0.2,
          0.75,
          0.375,
          0.25,
          0.42857142857142855,
          0.8571428571428571,
          0.5,
          0.5,
          0.75,
          0.75,
          0.75,
          0.5714285714285714,
          0.4,
          1,
          0.375,
          0.2,
          0.5,
          0.2,
          0.3333333333333333,
          1,
          0.3,
          0.16666666666666666,
          0.5,
          0.3333333333333333,
          0.5,
          0.625,
          0.2857142857142857,
          0.3,
          0.5,
          0.25,
          0.5,
          0.14285714285714285,
          0.4,
          0.1111111111111111,
          0.36363636363636365,
          0.4166666666666667,
          0.6666666666666666,
          0.75,
          0.09090909090909091,
          0.5,
          0.2,
          0.2,
          0.5833333333333334,
          0.2857142857142857,
          0.5833333333333334,
          0.3333333333333333,
          0.8333333333333334,
          0.4,
          0.6666666666666666,
          0.5,
          0.3333333333333333,
          0.8,
          0.7142857142857143,
          0.2,
          0.5555555555555556,
          0.5,
          0.8,
          0.5555555555555556,
          0.125,
          0.5,
          0.5833333333333334,
          0.6666666666666666,
          0.5,
          0.3333333333333333,
          0.08333333333333333,
          0.5,
          0.5,
          0.25,
          0.5714285714285714,
          0.5,
          0.5,
          0.375,
          0.16666666666666666,
          0.25,
          0.3333333333333333
         ],
         "yaxis": "y"
        },
        {
         "hovertemplate": "<b>LOWESS trendline</b><br><br>Maternal Age=%{x}<br>Blastocyst Proportion=%{y} <b>(trend)</b><extra></extra>",
         "legendgroup": "",
         "marker": {
          "symbol": "circle"
         },
         "mode": "lines",
         "name": "",
         "showlegend": false,
         "type": "scatter",
         "x": [
          23,
          26,
          26,
          28,
          28,
          29,
          29,
          30,
          30,
          30,
          30,
          31,
          31,
          31,
          31,
          31,
          31,
          31,
          31,
          31,
          31,
          32,
          32,
          32,
          32,
          32,
          32,
          32,
          32,
          32,
          32,
          32,
          32,
          33,
          33,
          33,
          33,
          33,
          33,
          33,
          33,
          33,
          33,
          33,
          33,
          33,
          33,
          33,
          33,
          34,
          34,
          34,
          34,
          34,
          34,
          34,
          34,
          34,
          34,
          34,
          34,
          34,
          34,
          34,
          34,
          34,
          34,
          34,
          34,
          34,
          34,
          34,
          34,
          34,
          35,
          35,
          35,
          35,
          35,
          35,
          35,
          35,
          35,
          35,
          35,
          35,
          35,
          35,
          35,
          35,
          35,
          35,
          35,
          35,
          35,
          35,
          35,
          35,
          35,
          35,
          35,
          35,
          35,
          35,
          35,
          35,
          35,
          35,
          35,
          35,
          35,
          35,
          35,
          35,
          35,
          35,
          35,
          35,
          36,
          36,
          36,
          36,
          36,
          36,
          36,
          36,
          36,
          36,
          36,
          36,
          36,
          36,
          36,
          36,
          36,
          36,
          36,
          36,
          36,
          36,
          36,
          36,
          36,
          36,
          36,
          36,
          36,
          36,
          36,
          36,
          36,
          36,
          36,
          36,
          36,
          36,
          36,
          36,
          36,
          36,
          36,
          36,
          36,
          36,
          36,
          36,
          36,
          36,
          36,
          36,
          36,
          36,
          36,
          36,
          36,
          36,
          36,
          36,
          36,
          36,
          36,
          36,
          36,
          36,
          36,
          37,
          37,
          37,
          37,
          37,
          37,
          37,
          37,
          37,
          37,
          37,
          37,
          37,
          37,
          37,
          37,
          37,
          37,
          37,
          37,
          37,
          37,
          37,
          37,
          37,
          37,
          37,
          37,
          37,
          37,
          37,
          37,
          37,
          37,
          37,
          37,
          37,
          37,
          37,
          37,
          37,
          37,
          37,
          37,
          37,
          37,
          37,
          37,
          37,
          37,
          37,
          37,
          37,
          37,
          37,
          37,
          37,
          37,
          37,
          37,
          37,
          37,
          37,
          37,
          37,
          37,
          37,
          37,
          37,
          37,
          37,
          37,
          37,
          37,
          37,
          37,
          37,
          37,
          37,
          37,
          37,
          37,
          37,
          37,
          37,
          37,
          38,
          38,
          38,
          38,
          38,
          38,
          38,
          38,
          38,
          38,
          38,
          38,
          38,
          38,
          38,
          38,
          38,
          38,
          38,
          38,
          38,
          38,
          38,
          38,
          38,
          38,
          38,
          38,
          38,
          38,
          38,
          38,
          38,
          38,
          38,
          38,
          38,
          38,
          38,
          38,
          38,
          38,
          38,
          38,
          38,
          38,
          38,
          38,
          38,
          38,
          38,
          38,
          38,
          38,
          38,
          38,
          38,
          38,
          38,
          38,
          38,
          38,
          38,
          38,
          38,
          38,
          38,
          38,
          38,
          38,
          38,
          38,
          38,
          38,
          38,
          38,
          38,
          38,
          38,
          39,
          39,
          39,
          39,
          39,
          39,
          39,
          39,
          39,
          39,
          39,
          39,
          39,
          39,
          39,
          39,
          39,
          39,
          39,
          39,
          39,
          39,
          39,
          39,
          39,
          39,
          39,
          39,
          39,
          39,
          39,
          39,
          39,
          39,
          39,
          39,
          39,
          39,
          39,
          39,
          39,
          39,
          39,
          39,
          39,
          39,
          39,
          39,
          39,
          39,
          39,
          39,
          39,
          39,
          39,
          39,
          39,
          39,
          39,
          39,
          39,
          39,
          39,
          39,
          39,
          39,
          39,
          39,
          39,
          39,
          39,
          39,
          39,
          39,
          39,
          39,
          39,
          39,
          39,
          39,
          39,
          39,
          39,
          39,
          39,
          39,
          39,
          39,
          39,
          39,
          39,
          39,
          39,
          39,
          39,
          39,
          40,
          40,
          40,
          40,
          40,
          40,
          40,
          40,
          40,
          40,
          40,
          40,
          40,
          40,
          40,
          40,
          40,
          40,
          40,
          40,
          40,
          40,
          40,
          40,
          40,
          40,
          40,
          40,
          40,
          40,
          40,
          40,
          40,
          40,
          40,
          40,
          40,
          40,
          40,
          40,
          40,
          40,
          40,
          40,
          40,
          40,
          40,
          40,
          40,
          40,
          40,
          40,
          40,
          40,
          40,
          40,
          40,
          40,
          40,
          40,
          40,
          40,
          40,
          40,
          40,
          40,
          40,
          40,
          40,
          40,
          40,
          40,
          40,
          40,
          40,
          40,
          40,
          40,
          40,
          40,
          40,
          40,
          40,
          40,
          40,
          40,
          40,
          40,
          40,
          40,
          40,
          40,
          40,
          40,
          40,
          40,
          40,
          40,
          40,
          40,
          40,
          40,
          40,
          40,
          40,
          40,
          40,
          40,
          40,
          41,
          41,
          41,
          41,
          41,
          41,
          41,
          41,
          41,
          41,
          41,
          41,
          41,
          41,
          41,
          41,
          41,
          41,
          41,
          41,
          41,
          41,
          41,
          41,
          41,
          41,
          41,
          41,
          41,
          41,
          41,
          41,
          41,
          41,
          41,
          41,
          41,
          41,
          41,
          41,
          41,
          41,
          41,
          41,
          41,
          41,
          41,
          41,
          41,
          41,
          41,
          41,
          41,
          41,
          41,
          41,
          41,
          41,
          41,
          41,
          41,
          41,
          41,
          41,
          41,
          41,
          41,
          41,
          41,
          41,
          41,
          41,
          41,
          41,
          41,
          41,
          41,
          41,
          41,
          41,
          41,
          41,
          41,
          41,
          41,
          41,
          41,
          41,
          41,
          42,
          42,
          42,
          42,
          42,
          42,
          42,
          42,
          42,
          42,
          42,
          42,
          42,
          42,
          42,
          42,
          42,
          42,
          42,
          42,
          42,
          42,
          42,
          42,
          42,
          42,
          42,
          42,
          42,
          42,
          42,
          42,
          42,
          42,
          42,
          42,
          42,
          42,
          42,
          42,
          42,
          42,
          42,
          42,
          42,
          42,
          42,
          42,
          42,
          42,
          42,
          42,
          42,
          42,
          42,
          42,
          42,
          42,
          42,
          42,
          42,
          42,
          42,
          42,
          42,
          42,
          42,
          42,
          42,
          42,
          42,
          42,
          42,
          42,
          42,
          42,
          42,
          42,
          42,
          42,
          42,
          42,
          42,
          42,
          42,
          42,
          42,
          42,
          42,
          42,
          42,
          43,
          43,
          43,
          43,
          43,
          43,
          43,
          43,
          43,
          43,
          43,
          43,
          43,
          43,
          43,
          43,
          43,
          43,
          43,
          43,
          43,
          43,
          43,
          43,
          43,
          43,
          43,
          43,
          43,
          43,
          43,
          43,
          43,
          43,
          43,
          43,
          43,
          43,
          43,
          43,
          43,
          43,
          43,
          43,
          43,
          43,
          43,
          43,
          43,
          43,
          43,
          43,
          43,
          43,
          43,
          43,
          43,
          43,
          43,
          43,
          43,
          43,
          43,
          43,
          44,
          44,
          44,
          44,
          44,
          44,
          44,
          44,
          44,
          44,
          44,
          44,
          44,
          44,
          44,
          44,
          44,
          44,
          44,
          44,
          44,
          44,
          44,
          44,
          44,
          44,
          44,
          45,
          45,
          45,
          45,
          45,
          45,
          45,
          45,
          45,
          46
         ],
         "xaxis": "x",
         "y": [
          0.4424296699857368,
          0.4483816350222749,
          0.4483816350222749,
          0.45106803757644875,
          0.45106803757644875,
          0.45170909703139983,
          0.45170909703139983,
          0.4524057720061474,
          0.4524057720061474,
          0.4524057720061474,
          0.4524057720061474,
          0.4544681672953185,
          0.4544681672953185,
          0.4544681672953185,
          0.4544681672953185,
          0.4544681672953185,
          0.4544681672953185,
          0.4544681672953185,
          0.4544681672953185,
          0.4544681672953185,
          0.4544681672953185,
          0.45968603534749614,
          0.45968603534749614,
          0.45968603534749614,
          0.45968603534749614,
          0.45968603534749614,
          0.45968603534749614,
          0.45968603534749614,
          0.45968603534749614,
          0.45968603534749614,
          0.45968603534749614,
          0.45968603534749614,
          0.45968603534749614,
          0.4656916705114184,
          0.4656916705114184,
          0.4656916705114184,
          0.4656916705114184,
          0.4656916705114184,
          0.4656916705114184,
          0.4656916705114184,
          0.4656916705114184,
          0.4656916705114184,
          0.4656916705114184,
          0.4656916705114184,
          0.4656916705114184,
          0.4656916705114184,
          0.4656916705114184,
          0.4656916705114184,
          0.4656916705114184,
          0.4687606957153979,
          0.4687606957153979,
          0.4687606957153979,
          0.4687606957153979,
          0.4687606957153979,
          0.4687606957153979,
          0.4687606957153979,
          0.4687606957153979,
          0.4687606957153979,
          0.4687606957153979,
          0.4687606957153979,
          0.4687606957153979,
          0.4687606957153979,
          0.4687606957153979,
          0.4687606957153979,
          0.4687606957153979,
          0.4687606957153979,
          0.4687606957153979,
          0.4687606957153979,
          0.4687606957153979,
          0.4687606957153979,
          0.4687606957153979,
          0.4687606957153979,
          0.4687606957153979,
          0.4687606957153979,
          0.4687139044033699,
          0.4687139044033699,
          0.4687139044033699,
          0.4687139044033699,
          0.4687139044033699,
          0.4687139044033699,
          0.4687139044033699,
          0.4687139044033699,
          0.4687139044033699,
          0.4687139044033699,
          0.4687139044033699,
          0.4687139044033699,
          0.4687139044033699,
          0.4687139044033699,
          0.4687139044033699,
          0.4687139044033699,
          0.4687139044033699,
          0.4687139044033699,
          0.4687139044033699,
          0.4687139044033699,
          0.4687139044033699,
          0.4687139044033699,
          0.4687139044033699,
          0.4687139044033699,
          0.4687139044033699,
          0.4687139044033699,
          0.4687139044033699,
          0.4687139044033699,
          0.4687139044033699,
          0.4687139044033699,
          0.4687139044033699,
          0.4687139044033699,
          0.4687139044033699,
          0.4687139044033699,
          0.4687139044033699,
          0.4687139044033699,
          0.4687139044033699,
          0.4687139044033699,
          0.4687139044033699,
          0.4687139044033699,
          0.4687139044033699,
          0.4687139044033699,
          0.4687139044033699,
          0.4687139044033699,
          0.46862291558634933,
          0.46862291558634933,
          0.46862291558634933,
          0.46862291558634933,
          0.46862291558634933,
          0.46862291558634933,
          0.46862291558634933,
          0.46862291558634933,
          0.46862291558634933,
          0.46862291558634933,
          0.46862291558634933,
          0.46862291558634933,
          0.46862291558634933,
          0.46862291558634933,
          0.46862291558634933,
          0.46862291558634933,
          0.46862291558634933,
          0.46862291558634933,
          0.46862291558634933,
          0.46862291558634933,
          0.46862291558634933,
          0.46862291558634933,
          0.46862291558634933,
          0.46862291558634933,
          0.46862291558634933,
          0.46862291558634933,
          0.46862291558634933,
          0.46862291558634933,
          0.46862291558634933,
          0.46862291558634933,
          0.46862291558634933,
          0.46862291558634933,
          0.46862291558634933,
          0.46862291558634933,
          0.46862291558634933,
          0.46862291558634933,
          0.46862291558634933,
          0.46862291558634933,
          0.46862291558634933,
          0.46862291558634933,
          0.46862291558634933,
          0.46862291558634933,
          0.46862291558634933,
          0.46862291558634933,
          0.46862291558634933,
          0.46862291558634933,
          0.46862291558634933,
          0.46862291558634933,
          0.46862291558634933,
          0.46862291558634933,
          0.46862291558634933,
          0.46862291558634933,
          0.46862291558634933,
          0.46862291558634933,
          0.46862291558634933,
          0.46862291558634933,
          0.46862291558634933,
          0.46862291558634933,
          0.46862291558634933,
          0.46862291558634933,
          0.46862291558634933,
          0.46862291558634933,
          0.46862291558634933,
          0.46862291558634933,
          0.46862291558634933,
          0.46862291558634933,
          0.46862291558634933,
          0.4680718670704771,
          0.4680718670704771,
          0.4680718670704771,
          0.4680718670704771,
          0.4680718670704771,
          0.4680718670704771,
          0.4680718670704771,
          0.4680718670704771,
          0.4680718670704771,
          0.4680718670704771,
          0.4680718670704771,
          0.4680718670704771,
          0.4680718670704771,
          0.4680718670704771,
          0.4680718670704771,
          0.4680718670704771,
          0.4680718670704771,
          0.4680718670704771,
          0.4680718670704771,
          0.4680718670704771,
          0.4680718670704771,
          0.4680718670704771,
          0.4680718670704771,
          0.4680718670704771,
          0.4680718670704771,
          0.4680718670704771,
          0.4680718670704771,
          0.4680718670704771,
          0.4680718670704771,
          0.4680718670704771,
          0.4680718670704771,
          0.4680718670704771,
          0.4680718670704771,
          0.4680718670704771,
          0.4680718670704771,
          0.4680718670704771,
          0.4680718670704771,
          0.4680718670704771,
          0.4680718670704771,
          0.4680718670704771,
          0.4680718670704771,
          0.4680718670704771,
          0.4680718670704771,
          0.4680718670704771,
          0.4680718670704771,
          0.4680718670704771,
          0.4680718670704771,
          0.4680718670704771,
          0.4680718670704771,
          0.4680718670704771,
          0.4680718670704771,
          0.4680718670704771,
          0.4680718670704771,
          0.4680718670704771,
          0.4680718670704771,
          0.4680718670704771,
          0.4680718670704771,
          0.4680718670704771,
          0.4680718670704771,
          0.4680718670704771,
          0.4680718670704771,
          0.4680718670704771,
          0.4680718670704771,
          0.4680718670704771,
          0.4680718670704771,
          0.4680718670704771,
          0.4680718670704771,
          0.4680718670704771,
          0.4680718670704771,
          0.4680718670704771,
          0.4680718670704771,
          0.4680718670704771,
          0.4680718670704771,
          0.4680718670704771,
          0.4680718670704771,
          0.4680718670704771,
          0.4680718670704771,
          0.4680718670704771,
          0.4680718670704771,
          0.4680718670704771,
          0.4680718670704771,
          0.4680718670704771,
          0.4680718670704771,
          0.4680718670704771,
          0.4680718670704771,
          0.4680718670704771,
          0.46270613774499153,
          0.46270613774499153,
          0.46270613774499153,
          0.46270613774499153,
          0.46270613774499153,
          0.46270613774499153,
          0.46270613774499153,
          0.46270613774499153,
          0.46270613774499153,
          0.46270613774499153,
          0.46270613774499153,
          0.46270613774499153,
          0.46270613774499153,
          0.46270613774499153,
          0.46270613774499153,
          0.46270613774499153,
          0.46270613774499153,
          0.46270613774499153,
          0.46270613774499153,
          0.46270613774499153,
          0.46270613774499153,
          0.46270613774499153,
          0.46270613774499153,
          0.46270613774499153,
          0.46270613774499153,
          0.46270613774499153,
          0.46270613774499153,
          0.46270613774499153,
          0.46270613774499153,
          0.46270613774499153,
          0.46270613774499153,
          0.46270613774499153,
          0.46270613774499153,
          0.46270613774499153,
          0.46270613774499153,
          0.46270613774499153,
          0.46270613774499153,
          0.46270613774499153,
          0.46270613774499153,
          0.46270613774499153,
          0.46270613774499153,
          0.46270613774499153,
          0.46270613774499153,
          0.46270613774499153,
          0.46270613774499153,
          0.46270613774499153,
          0.46270613774499153,
          0.46270613774499153,
          0.46270613774499153,
          0.46270613774499153,
          0.46270613774499153,
          0.46270613774499153,
          0.46270613774499153,
          0.46270613774499153,
          0.46270613774499153,
          0.46270613774499153,
          0.46270613774499153,
          0.46270613774499153,
          0.46270613774499153,
          0.46270613774499153,
          0.46270613774499153,
          0.46270613774499153,
          0.46270613774499153,
          0.46270613774499153,
          0.46270613774499153,
          0.46270613774499153,
          0.46270613774499153,
          0.46270613774499153,
          0.46270613774499153,
          0.46270613774499153,
          0.46270613774499153,
          0.46270613774499153,
          0.46270613774499153,
          0.46270613774499153,
          0.46270613774499153,
          0.46270613774499153,
          0.46270613774499153,
          0.46270613774499153,
          0.46270613774499153,
          0.44268209294546407,
          0.44268209294546407,
          0.44268209294546407,
          0.44268209294546407,
          0.44268209294546407,
          0.44268209294546407,
          0.44268209294546407,
          0.44268209294546407,
          0.44268209294546407,
          0.44268209294546407,
          0.44268209294546407,
          0.44268209294546407,
          0.44268209294546407,
          0.44268209294546407,
          0.44268209294546407,
          0.44268209294546407,
          0.44268209294546407,
          0.44268209294546407,
          0.44268209294546407,
          0.44268209294546407,
          0.44268209294546407,
          0.44268209294546407,
          0.44268209294546407,
          0.44268209294546407,
          0.44268209294546407,
          0.44268209294546407,
          0.44268209294546407,
          0.44268209294546407,
          0.44268209294546407,
          0.44268209294546407,
          0.44268209294546407,
          0.44268209294546407,
          0.44268209294546407,
          0.44268209294546407,
          0.44268209294546407,
          0.44268209294546407,
          0.44268209294546407,
          0.44268209294546407,
          0.44268209294546407,
          0.44268209294546407,
          0.44268209294546407,
          0.44268209294546407,
          0.44268209294546407,
          0.44268209294546407,
          0.44268209294546407,
          0.44268209294546407,
          0.44268209294546407,
          0.44268209294546407,
          0.44268209294546407,
          0.44268209294546407,
          0.44268209294546407,
          0.44268209294546407,
          0.44268209294546407,
          0.44268209294546407,
          0.44268209294546407,
          0.44268209294546407,
          0.44268209294546407,
          0.44268209294546407,
          0.44268209294546407,
          0.44268209294546407,
          0.44268209294546407,
          0.44268209294546407,
          0.44268209294546407,
          0.44268209294546407,
          0.44268209294546407,
          0.44268209294546407,
          0.44268209294546407,
          0.44268209294546407,
          0.44268209294546407,
          0.44268209294546407,
          0.44268209294546407,
          0.44268209294546407,
          0.44268209294546407,
          0.44268209294546407,
          0.44268209294546407,
          0.44268209294546407,
          0.44268209294546407,
          0.44268209294546407,
          0.44268209294546407,
          0.44268209294546407,
          0.44268209294546407,
          0.44268209294546407,
          0.44268209294546407,
          0.44268209294546407,
          0.44268209294546407,
          0.44268209294546407,
          0.44268209294546407,
          0.44268209294546407,
          0.44268209294546407,
          0.44268209294546407,
          0.44268209294546407,
          0.44268209294546407,
          0.44268209294546407,
          0.44268209294546407,
          0.44268209294546407,
          0.44268209294546407,
          0.41895114221586655,
          0.41895114221586655,
          0.41895114221586655,
          0.41895114221586655,
          0.41895114221586655,
          0.41895114221586655,
          0.41895114221586655,
          0.41895114221586655,
          0.41895114221586655,
          0.41895114221586655,
          0.41895114221586655,
          0.41895114221586655,
          0.41895114221586655,
          0.41895114221586655,
          0.41895114221586655,
          0.41895114221586655,
          0.41895114221586655,
          0.41895114221586655,
          0.41895114221586655,
          0.41895114221586655,
          0.41895114221586655,
          0.41895114221586655,
          0.41895114221586655,
          0.41895114221586655,
          0.41895114221586655,
          0.41895114221586655,
          0.41895114221586655,
          0.41895114221586655,
          0.41895114221586655,
          0.41895114221586655,
          0.41895114221586655,
          0.41895114221586655,
          0.41895114221586655,
          0.41895114221586655,
          0.41895114221586655,
          0.41895114221586655,
          0.41895114221586655,
          0.41895114221586655,
          0.41895114221586655,
          0.41895114221586655,
          0.41895114221586655,
          0.41895114221586655,
          0.41895114221586655,
          0.41895114221586655,
          0.41895114221586655,
          0.41895114221586655,
          0.41895114221586655,
          0.41895114221586655,
          0.41895114221586655,
          0.41895114221586655,
          0.41895114221586655,
          0.41895114221586655,
          0.41895114221586655,
          0.41895114221586655,
          0.41895114221586655,
          0.41895114221586655,
          0.41895114221586655,
          0.41895114221586655,
          0.41895114221586655,
          0.41895114221586655,
          0.41895114221586655,
          0.41895114221586655,
          0.41895114221586655,
          0.41895114221586655,
          0.41895114221586655,
          0.41895114221586655,
          0.41895114221586655,
          0.41895114221586655,
          0.41895114221586655,
          0.41895114221586655,
          0.41895114221586655,
          0.41895114221586655,
          0.41895114221586655,
          0.41895114221586655,
          0.41895114221586655,
          0.41895114221586655,
          0.41895114221586655,
          0.41895114221586655,
          0.41895114221586655,
          0.41895114221586655,
          0.41895114221586655,
          0.41895114221586655,
          0.41895114221586655,
          0.41895114221586655,
          0.41895114221586655,
          0.41895114221586655,
          0.41895114221586655,
          0.41895114221586655,
          0.41895114221586655,
          0.41895114221586655,
          0.41895114221586655,
          0.41895114221586655,
          0.41895114221586655,
          0.41895114221586655,
          0.41895114221586655,
          0.41895114221586655,
          0.41895114221586655,
          0.41895114221586655,
          0.41895114221586655,
          0.41895114221586655,
          0.41895114221586655,
          0.41895114221586655,
          0.41895114221586655,
          0.41895114221586655,
          0.41895114221586655,
          0.41895114221586655,
          0.41895114221586655,
          0.41895114221586655,
          0.41895114221586655,
          0.401608829049715,
          0.401608829049715,
          0.401608829049715,
          0.401608829049715,
          0.401608829049715,
          0.401608829049715,
          0.401608829049715,
          0.401608829049715,
          0.401608829049715,
          0.401608829049715,
          0.401608829049715,
          0.401608829049715,
          0.401608829049715,
          0.401608829049715,
          0.401608829049715,
          0.401608829049715,
          0.401608829049715,
          0.401608829049715,
          0.401608829049715,
          0.401608829049715,
          0.401608829049715,
          0.401608829049715,
          0.401608829049715,
          0.401608829049715,
          0.401608829049715,
          0.401608829049715,
          0.401608829049715,
          0.401608829049715,
          0.401608829049715,
          0.401608829049715,
          0.401608829049715,
          0.401608829049715,
          0.401608829049715,
          0.401608829049715,
          0.401608829049715,
          0.401608829049715,
          0.401608829049715,
          0.401608829049715,
          0.401608829049715,
          0.401608829049715,
          0.401608829049715,
          0.401608829049715,
          0.401608829049715,
          0.401608829049715,
          0.401608829049715,
          0.401608829049715,
          0.401608829049715,
          0.401608829049715,
          0.401608829049715,
          0.401608829049715,
          0.401608829049715,
          0.401608829049715,
          0.401608829049715,
          0.401608829049715,
          0.401608829049715,
          0.401608829049715,
          0.401608829049715,
          0.401608829049715,
          0.401608829049715,
          0.401608829049715,
          0.401608829049715,
          0.401608829049715,
          0.401608829049715,
          0.401608829049715,
          0.401608829049715,
          0.401608829049715,
          0.401608829049715,
          0.401608829049715,
          0.401608829049715,
          0.401608829049715,
          0.401608829049715,
          0.401608829049715,
          0.401608829049715,
          0.401608829049715,
          0.401608829049715,
          0.401608829049715,
          0.401608829049715,
          0.401608829049715,
          0.401608829049715,
          0.401608829049715,
          0.401608829049715,
          0.401608829049715,
          0.401608829049715,
          0.401608829049715,
          0.401608829049715,
          0.401608829049715,
          0.401608829049715,
          0.401608829049715,
          0.401608829049715,
          0.38409919509706525,
          0.38409919509706525,
          0.38409919509706525,
          0.38409919509706525,
          0.38409919509706525,
          0.38409919509706525,
          0.38409919509706525,
          0.38409919509706525,
          0.38409919509706525,
          0.38409919509706525,
          0.38409919509706525,
          0.38409919509706525,
          0.38409919509706525,
          0.38409919509706525,
          0.38409919509706525,
          0.38409919509706525,
          0.38409919509706525,
          0.38409919509706525,
          0.38409919509706525,
          0.38409919509706525,
          0.38409919509706525,
          0.38409919509706525,
          0.38409919509706525,
          0.38409919509706525,
          0.38409919509706525,
          0.38409919509706525,
          0.38409919509706525,
          0.38409919509706525,
          0.38409919509706525,
          0.38409919509706525,
          0.38409919509706525,
          0.38409919509706525,
          0.38409919509706525,
          0.38409919509706525,
          0.38409919509706525,
          0.38409919509706525,
          0.38409919509706525,
          0.38409919509706525,
          0.38409919509706525,
          0.38409919509706525,
          0.38409919509706525,
          0.38409919509706525,
          0.38409919509706525,
          0.38409919509706525,
          0.38409919509706525,
          0.38409919509706525,
          0.38409919509706525,
          0.38409919509706525,
          0.38409919509706525,
          0.38409919509706525,
          0.38409919509706525,
          0.38409919509706525,
          0.38409919509706525,
          0.38409919509706525,
          0.38409919509706525,
          0.38409919509706525,
          0.38409919509706525,
          0.38409919509706525,
          0.38409919509706525,
          0.38409919509706525,
          0.38409919509706525,
          0.38409919509706525,
          0.38409919509706525,
          0.38409919509706525,
          0.38409919509706525,
          0.38409919509706525,
          0.38409919509706525,
          0.38409919509706525,
          0.38409919509706525,
          0.38409919509706525,
          0.38409919509706525,
          0.38409919509706525,
          0.38409919509706525,
          0.38409919509706525,
          0.38409919509706525,
          0.38409919509706525,
          0.38409919509706525,
          0.38409919509706525,
          0.38409919509706525,
          0.38409919509706525,
          0.38409919509706525,
          0.38409919509706525,
          0.38409919509706525,
          0.38409919509706525,
          0.38409919509706525,
          0.38409919509706525,
          0.38409919509706525,
          0.38409919509706525,
          0.38409919509706525,
          0.38409919509706525,
          0.38409919509706525,
          0.3615210857185329,
          0.3615210857185329,
          0.3615210857185329,
          0.3615210857185329,
          0.3615210857185329,
          0.3615210857185329,
          0.3615210857185329,
          0.3615210857185329,
          0.3615210857185329,
          0.3615210857185329,
          0.3615210857185329,
          0.3615210857185329,
          0.3615210857185329,
          0.3615210857185329,
          0.3615210857185329,
          0.3615210857185329,
          0.3615210857185329,
          0.3615210857185329,
          0.3615210857185329,
          0.3615210857185329,
          0.3615210857185329,
          0.3615210857185329,
          0.3615210857185329,
          0.3615210857185329,
          0.3615210857185329,
          0.3615210857185329,
          0.3615210857185329,
          0.3615210857185329,
          0.3615210857185329,
          0.3615210857185329,
          0.3615210857185329,
          0.3615210857185329,
          0.3615210857185329,
          0.3615210857185329,
          0.3615210857185329,
          0.3615210857185329,
          0.3615210857185329,
          0.3615210857185329,
          0.3615210857185329,
          0.3615210857185329,
          0.3615210857185329,
          0.3615210857185329,
          0.3615210857185329,
          0.3615210857185329,
          0.3615210857185329,
          0.3615210857185329,
          0.3615210857185329,
          0.3615210857185329,
          0.3615210857185329,
          0.3615210857185329,
          0.3615210857185329,
          0.3615210857185329,
          0.3615210857185329,
          0.3615210857185329,
          0.3615210857185329,
          0.3615210857185329,
          0.3615210857185329,
          0.3615210857185329,
          0.3615210857185329,
          0.3615210857185329,
          0.3615210857185329,
          0.3615210857185329,
          0.3615210857185329,
          0.3615210857185329,
          0.34078849701659303,
          0.34078849701659303,
          0.34078849701659303,
          0.34078849701659303,
          0.34078849701659303,
          0.34078849701659303,
          0.34078849701659303,
          0.34078849701659303,
          0.34078849701659303,
          0.34078849701659303,
          0.34078849701659303,
          0.34078849701659303,
          0.34078849701659303,
          0.34078849701659303,
          0.34078849701659303,
          0.34078849701659303,
          0.34078849701659303,
          0.34078849701659303,
          0.34078849701659303,
          0.34078849701659303,
          0.34078849701659303,
          0.34078849701659303,
          0.34078849701659303,
          0.34078849701659303,
          0.34078849701659303,
          0.34078849701659303,
          0.34078849701659303,
          0.3193371151227405,
          0.3193371151227405,
          0.3193371151227405,
          0.3193371151227405,
          0.3193371151227405,
          0.3193371151227405,
          0.3193371151227405,
          0.3193371151227405,
          0.3193371151227405,
          0.29637376673191734
         ],
         "yaxis": "y"
        }
       ],
       "layout": {
        "coloraxis": {
         "colorbar": {
          "title": {
           "text": "total_embryos"
          }
         },
         "colorscale": [
          [
           0,
           "#0d0887"
          ],
          [
           0.1111111111111111,
           "#46039f"
          ],
          [
           0.2222222222222222,
           "#7201a8"
          ],
          [
           0.3333333333333333,
           "#9c179e"
          ],
          [
           0.4444444444444444,
           "#bd3786"
          ],
          [
           0.5555555555555556,
           "#d8576b"
          ],
          [
           0.6666666666666666,
           "#ed7953"
          ],
          [
           0.7777777777777778,
           "#fb9f3a"
          ],
          [
           0.8888888888888888,
           "#fdca26"
          ],
          [
           1,
           "#f0f921"
          ]
         ]
        },
        "height": 600,
        "legend": {
         "itemsizing": "constant",
         "tracegroupgap": 0
        },
        "template": {
         "data": {
          "bar": [
           {
            "error_x": {
             "color": "#2a3f5f"
            },
            "error_y": {
             "color": "#2a3f5f"
            },
            "marker": {
             "line": {
              "color": "#E5ECF6",
              "width": 0.5
             },
             "pattern": {
              "fillmode": "overlay",
              "size": 10,
              "solidity": 0.2
             }
            },
            "type": "bar"
           }
          ],
          "barpolar": [
           {
            "marker": {
             "line": {
              "color": "#E5ECF6",
              "width": 0.5
             },
             "pattern": {
              "fillmode": "overlay",
              "size": 10,
              "solidity": 0.2
             }
            },
            "type": "barpolar"
           }
          ],
          "carpet": [
           {
            "aaxis": {
             "endlinecolor": "#2a3f5f",
             "gridcolor": "white",
             "linecolor": "white",
             "minorgridcolor": "white",
             "startlinecolor": "#2a3f5f"
            },
            "baxis": {
             "endlinecolor": "#2a3f5f",
             "gridcolor": "white",
             "linecolor": "white",
             "minorgridcolor": "white",
             "startlinecolor": "#2a3f5f"
            },
            "type": "carpet"
           }
          ],
          "choropleth": [
           {
            "colorbar": {
             "outlinewidth": 0,
             "ticks": ""
            },
            "type": "choropleth"
           }
          ],
          "contour": [
           {
            "colorbar": {
             "outlinewidth": 0,
             "ticks": ""
            },
            "colorscale": [
             [
              0,
              "#0d0887"
             ],
             [
              0.1111111111111111,
              "#46039f"
             ],
             [
              0.2222222222222222,
              "#7201a8"
             ],
             [
              0.3333333333333333,
              "#9c179e"
             ],
             [
              0.4444444444444444,
              "#bd3786"
             ],
             [
              0.5555555555555556,
              "#d8576b"
             ],
             [
              0.6666666666666666,
              "#ed7953"
             ],
             [
              0.7777777777777778,
              "#fb9f3a"
             ],
             [
              0.8888888888888888,
              "#fdca26"
             ],
             [
              1,
              "#f0f921"
             ]
            ],
            "type": "contour"
           }
          ],
          "contourcarpet": [
           {
            "colorbar": {
             "outlinewidth": 0,
             "ticks": ""
            },
            "type": "contourcarpet"
           }
          ],
          "heatmap": [
           {
            "colorbar": {
             "outlinewidth": 0,
             "ticks": ""
            },
            "colorscale": [
             [
              0,
              "#0d0887"
             ],
             [
              0.1111111111111111,
              "#46039f"
             ],
             [
              0.2222222222222222,
              "#7201a8"
             ],
             [
              0.3333333333333333,
              "#9c179e"
             ],
             [
              0.4444444444444444,
              "#bd3786"
             ],
             [
              0.5555555555555556,
              "#d8576b"
             ],
             [
              0.6666666666666666,
              "#ed7953"
             ],
             [
              0.7777777777777778,
              "#fb9f3a"
             ],
             [
              0.8888888888888888,
              "#fdca26"
             ],
             [
              1,
              "#f0f921"
             ]
            ],
            "type": "heatmap"
           }
          ],
          "heatmapgl": [
           {
            "colorbar": {
             "outlinewidth": 0,
             "ticks": ""
            },
            "colorscale": [
             [
              0,
              "#0d0887"
             ],
             [
              0.1111111111111111,
              "#46039f"
             ],
             [
              0.2222222222222222,
              "#7201a8"
             ],
             [
              0.3333333333333333,
              "#9c179e"
             ],
             [
              0.4444444444444444,
              "#bd3786"
             ],
             [
              0.5555555555555556,
              "#d8576b"
             ],
             [
              0.6666666666666666,
              "#ed7953"
             ],
             [
              0.7777777777777778,
              "#fb9f3a"
             ],
             [
              0.8888888888888888,
              "#fdca26"
             ],
             [
              1,
              "#f0f921"
             ]
            ],
            "type": "heatmapgl"
           }
          ],
          "histogram": [
           {
            "marker": {
             "pattern": {
              "fillmode": "overlay",
              "size": 10,
              "solidity": 0.2
             }
            },
            "type": "histogram"
           }
          ],
          "histogram2d": [
           {
            "colorbar": {
             "outlinewidth": 0,
             "ticks": ""
            },
            "colorscale": [
             [
              0,
              "#0d0887"
             ],
             [
              0.1111111111111111,
              "#46039f"
             ],
             [
              0.2222222222222222,
              "#7201a8"
             ],
             [
              0.3333333333333333,
              "#9c179e"
             ],
             [
              0.4444444444444444,
              "#bd3786"
             ],
             [
              0.5555555555555556,
              "#d8576b"
             ],
             [
              0.6666666666666666,
              "#ed7953"
             ],
             [
              0.7777777777777778,
              "#fb9f3a"
             ],
             [
              0.8888888888888888,
              "#fdca26"
             ],
             [
              1,
              "#f0f921"
             ]
            ],
            "type": "histogram2d"
           }
          ],
          "histogram2dcontour": [
           {
            "colorbar": {
             "outlinewidth": 0,
             "ticks": ""
            },
            "colorscale": [
             [
              0,
              "#0d0887"
             ],
             [
              0.1111111111111111,
              "#46039f"
             ],
             [
              0.2222222222222222,
              "#7201a8"
             ],
             [
              0.3333333333333333,
              "#9c179e"
             ],
             [
              0.4444444444444444,
              "#bd3786"
             ],
             [
              0.5555555555555556,
              "#d8576b"
             ],
             [
              0.6666666666666666,
              "#ed7953"
             ],
             [
              0.7777777777777778,
              "#fb9f3a"
             ],
             [
              0.8888888888888888,
              "#fdca26"
             ],
             [
              1,
              "#f0f921"
             ]
            ],
            "type": "histogram2dcontour"
           }
          ],
          "mesh3d": [
           {
            "colorbar": {
             "outlinewidth": 0,
             "ticks": ""
            },
            "type": "mesh3d"
           }
          ],
          "parcoords": [
           {
            "line": {
             "colorbar": {
              "outlinewidth": 0,
              "ticks": ""
             }
            },
            "type": "parcoords"
           }
          ],
          "pie": [
           {
            "automargin": true,
            "type": "pie"
           }
          ],
          "scatter": [
           {
            "fillpattern": {
             "fillmode": "overlay",
             "size": 10,
             "solidity": 0.2
            },
            "type": "scatter"
           }
          ],
          "scatter3d": [
           {
            "line": {
             "colorbar": {
              "outlinewidth": 0,
              "ticks": ""
             }
            },
            "marker": {
             "colorbar": {
              "outlinewidth": 0,
              "ticks": ""
             }
            },
            "type": "scatter3d"
           }
          ],
          "scattercarpet": [
           {
            "marker": {
             "colorbar": {
              "outlinewidth": 0,
              "ticks": ""
             }
            },
            "type": "scattercarpet"
           }
          ],
          "scattergeo": [
           {
            "marker": {
             "colorbar": {
              "outlinewidth": 0,
              "ticks": ""
             }
            },
            "type": "scattergeo"
           }
          ],
          "scattergl": [
           {
            "marker": {
             "colorbar": {
              "outlinewidth": 0,
              "ticks": ""
             }
            },
            "type": "scattergl"
           }
          ],
          "scattermapbox": [
           {
            "marker": {
             "colorbar": {
              "outlinewidth": 0,
              "ticks": ""
             }
            },
            "type": "scattermapbox"
           }
          ],
          "scatterpolar": [
           {
            "marker": {
             "colorbar": {
              "outlinewidth": 0,
              "ticks": ""
             }
            },
            "type": "scatterpolar"
           }
          ],
          "scatterpolargl": [
           {
            "marker": {
             "colorbar": {
              "outlinewidth": 0,
              "ticks": ""
             }
            },
            "type": "scatterpolargl"
           }
          ],
          "scatterternary": [
           {
            "marker": {
             "colorbar": {
              "outlinewidth": 0,
              "ticks": ""
             }
            },
            "type": "scatterternary"
           }
          ],
          "surface": [
           {
            "colorbar": {
             "outlinewidth": 0,
             "ticks": ""
            },
            "colorscale": [
             [
              0,
              "#0d0887"
             ],
             [
              0.1111111111111111,
              "#46039f"
             ],
             [
              0.2222222222222222,
              "#7201a8"
             ],
             [
              0.3333333333333333,
              "#9c179e"
             ],
             [
              0.4444444444444444,
              "#bd3786"
             ],
             [
              0.5555555555555556,
              "#d8576b"
             ],
             [
              0.6666666666666666,
              "#ed7953"
             ],
             [
              0.7777777777777778,
              "#fb9f3a"
             ],
             [
              0.8888888888888888,
              "#fdca26"
             ],
             [
              1,
              "#f0f921"
             ]
            ],
            "type": "surface"
           }
          ],
          "table": [
           {
            "cells": {
             "fill": {
              "color": "#EBF0F8"
             },
             "line": {
              "color": "white"
             }
            },
            "header": {
             "fill": {
              "color": "#C8D4E3"
             },
             "line": {
              "color": "white"
             }
            },
            "type": "table"
           }
          ]
         },
         "layout": {
          "annotationdefaults": {
           "arrowcolor": "#2a3f5f",
           "arrowhead": 0,
           "arrowwidth": 1
          },
          "autotypenumbers": "strict",
          "coloraxis": {
           "colorbar": {
            "outlinewidth": 0,
            "ticks": ""
           }
          },
          "colorscale": {
           "diverging": [
            [
             0,
             "#8e0152"
            ],
            [
             0.1,
             "#c51b7d"
            ],
            [
             0.2,
             "#de77ae"
            ],
            [
             0.3,
             "#f1b6da"
            ],
            [
             0.4,
             "#fde0ef"
            ],
            [
             0.5,
             "#f7f7f7"
            ],
            [
             0.6,
             "#e6f5d0"
            ],
            [
             0.7,
             "#b8e186"
            ],
            [
             0.8,
             "#7fbc41"
            ],
            [
             0.9,
             "#4d9221"
            ],
            [
             1,
             "#276419"
            ]
           ],
           "sequential": [
            [
             0,
             "#0d0887"
            ],
            [
             0.1111111111111111,
             "#46039f"
            ],
            [
             0.2222222222222222,
             "#7201a8"
            ],
            [
             0.3333333333333333,
             "#9c179e"
            ],
            [
             0.4444444444444444,
             "#bd3786"
            ],
            [
             0.5555555555555556,
             "#d8576b"
            ],
            [
             0.6666666666666666,
             "#ed7953"
            ],
            [
             0.7777777777777778,
             "#fb9f3a"
            ],
            [
             0.8888888888888888,
             "#fdca26"
            ],
            [
             1,
             "#f0f921"
            ]
           ],
           "sequentialminus": [
            [
             0,
             "#0d0887"
            ],
            [
             0.1111111111111111,
             "#46039f"
            ],
            [
             0.2222222222222222,
             "#7201a8"
            ],
            [
             0.3333333333333333,
             "#9c179e"
            ],
            [
             0.4444444444444444,
             "#bd3786"
            ],
            [
             0.5555555555555556,
             "#d8576b"
            ],
            [
             0.6666666666666666,
             "#ed7953"
            ],
            [
             0.7777777777777778,
             "#fb9f3a"
            ],
            [
             0.8888888888888888,
             "#fdca26"
            ],
            [
             1,
             "#f0f921"
            ]
           ]
          },
          "colorway": [
           "#636efa",
           "#EF553B",
           "#00cc96",
           "#ab63fa",
           "#FFA15A",
           "#19d3f3",
           "#FF6692",
           "#B6E880",
           "#FF97FF",
           "#FECB52"
          ],
          "font": {
           "color": "#2a3f5f"
          },
          "geo": {
           "bgcolor": "white",
           "lakecolor": "white",
           "landcolor": "#E5ECF6",
           "showlakes": true,
           "showland": true,
           "subunitcolor": "white"
          },
          "hoverlabel": {
           "align": "left"
          },
          "hovermode": "closest",
          "mapbox": {
           "style": "light"
          },
          "paper_bgcolor": "white",
          "plot_bgcolor": "#E5ECF6",
          "polar": {
           "angularaxis": {
            "gridcolor": "white",
            "linecolor": "white",
            "ticks": ""
           },
           "bgcolor": "#E5ECF6",
           "radialaxis": {
            "gridcolor": "white",
            "linecolor": "white",
            "ticks": ""
           }
          },
          "scene": {
           "xaxis": {
            "backgroundcolor": "#E5ECF6",
            "gridcolor": "white",
            "gridwidth": 2,
            "linecolor": "white",
            "showbackground": true,
            "ticks": "",
            "zerolinecolor": "white"
           },
           "yaxis": {
            "backgroundcolor": "#E5ECF6",
            "gridcolor": "white",
            "gridwidth": 2,
            "linecolor": "white",
            "showbackground": true,
            "ticks": "",
            "zerolinecolor": "white"
           },
           "zaxis": {
            "backgroundcolor": "#E5ECF6",
            "gridcolor": "white",
            "gridwidth": 2,
            "linecolor": "white",
            "showbackground": true,
            "ticks": "",
            "zerolinecolor": "white"
           }
          },
          "shapedefaults": {
           "line": {
            "color": "#2a3f5f"
           }
          },
          "ternary": {
           "aaxis": {
            "gridcolor": "white",
            "linecolor": "white",
            "ticks": ""
           },
           "baxis": {
            "gridcolor": "white",
            "linecolor": "white",
            "ticks": ""
           },
           "bgcolor": "#E5ECF6",
           "caxis": {
            "gridcolor": "white",
            "linecolor": "white",
            "ticks": ""
           }
          },
          "title": {
           "x": 0.05
          },
          "xaxis": {
           "automargin": true,
           "gridcolor": "white",
           "linecolor": "white",
           "ticks": "",
           "title": {
            "standoff": 15
           },
           "zerolinecolor": "white",
           "zerolinewidth": 2
          },
          "yaxis": {
           "automargin": true,
           "gridcolor": "white",
           "linecolor": "white",
           "ticks": "",
           "title": {
            "standoff": 15
           },
           "zerolinecolor": "white",
           "zerolinewidth": 2
          }
         }
        },
        "title": {
         "text": "Blastocyst Proportion Analysis"
        },
        "width": 1200,
        "xaxis": {
         "anchor": "y",
         "domain": [
          0,
          1
         ],
         "title": {
          "text": "Maternal Age"
         }
        },
        "yaxis": {
         "anchor": "x",
         "domain": [
          0,
          1
         ],
         "title": {
          "text": "Blastocyst Proportion"
         }
        }
       }
      }
     },
     "metadata": {},
     "output_type": "display_data"
    }
   ],
   "source": [
    "# === Plot interattivo (Plotly) ===\n",
    "fig = generate_interactive_plot(patient_data, save_dir=OUTPUT_DIR, show=True)"
   ]
  },
  {
   "cell_type": "code",
   "execution_count": 28,
   "id": "b3a3a1f6",
   "metadata": {},
   "outputs": [
    {
     "name": "stderr",
     "output_type": "stream",
     "text": [
      "2025-09-01 17:02:41,251 - INFO - Performing statistical analysis\n"
     ]
    },
    {
     "name": "stdout",
     "output_type": "stream",
     "text": [
      "Model summary (short):\n",
      "                        Generalized Linear Model Regression Results                         \n",
      "============================================================================================\n",
      "Dep. Variable:     ['blast_count', 'total_embryos']   No. Observations:                  836\n",
      "Model:                                          GLM   Df Residuals:                      834\n",
      "Model Family:                              Binomial   Df Model:                            1\n",
      "Link Function:                                Logit   Scale:                          1.0000\n",
      "Method:                                        IRLS   Log-Likelihood:                -1253.9\n",
      "Date:                              Mon, 01 Sep 2025   Deviance:                       446.29\n",
      "Time:                                      17:02:41   Pearson chi2:                     416.\n",
      "No. Iterations:                                   4   Pseudo R-squ. (CS):            0.01786\n",
      "Covariance Type:                          nonrobust                                         \n",
      "============================================================================================\n",
      "\n",
      "Key statistics:\n",
      "{'pearson': PearsonRResult(statistic=np.float64(-0.14074260223291002), pvalue=np.float64(4.4336005358794446e-05)), 'average_proportion': np.float64(0.44566168754002977), 'median_age': np.float64(39.0)}\n"
     ]
    }
   ],
   "source": [
    "# === Analisi statistica ===\n",
    "results, key_stats = perform_statistical_analysis(patient_data, save_dir=OUTPUT_DIR if SAVE_OUTPUTS else None)\n",
    "print(\"Model summary (short):\")\n",
    "print(results.summary().tables[0])\n",
    "print(\"\\nKey statistics:\")\n",
    "print(key_stats)\n"
   ]
  },
  {
   "cell_type": "code",
   "execution_count": 29,
   "id": "553a2140",
   "metadata": {},
   "outputs": [
    {
     "name": "stdout",
     "output_type": "stream",
     "text": [
      "--- Analysis Metadata ---\n",
      "analysis_date: 2025-09-01 17:02:45\n",
      "total_patients: 836\n",
      "age_range: 23 - 46\n",
      "total_embryos: 6052\n",
      "mean_proportion: 0.4457\n"
     ]
    }
   ],
   "source": [
    "# === Salvataggio metadata ===\n",
    "from datetime import datetime\n",
    "import pandas as pd # Assumiamo che 'data' sia un DataFrame pandas\n",
    "\n",
    "def create_analysis_metadata(data):\n",
    "    \"\"\"Calcola e restituisce un dizionario con i metadati dell'analisi.\"\"\"\n",
    "    metadata = {\n",
    "        'analysis_date': datetime.now().strftime(\"%Y-%m-%d %H:%M:%S\"),\n",
    "        'total_patients': len(data),\n",
    "        'age_range': f\"{data['age'].min()} - {data['age'].max()}\",\n",
    "        'total_embryos': int(data['total_embryos'].sum()),\n",
    "        'mean_proportion': float(round(data['proportion_blast'].mean(), 4)) # Aggiunto arrotondamento per pulizia\n",
    "    }\n",
    "    return metadata\n",
    "\n",
    "# 1. Crea i metadati\n",
    "analysis_metadata = create_analysis_metadata(patient_data)\n",
    "\n",
    "# 2. Stampa i metadati a schermo (il tuo obiettivo)\n",
    "print(\"--- Analysis Metadata ---\")\n",
    "for key, value in analysis_metadata.items():\n",
    "    print(f\"{key}: {value}\")"
   ]
  }
 ],
 "metadata": {
  "kernelspec": {
   "display_name": "BlastoVenv",
   "language": "python",
   "name": "python3"
  },
  "language_info": {
   "codemirror_mode": {
    "name": "ipython",
    "version": 3
   },
   "file_extension": ".py",
   "mimetype": "text/x-python",
   "name": "python",
   "nbconvert_exporter": "python",
   "pygments_lexer": "ipython3",
   "version": "3.11.13"
  }
 },
 "nbformat": 4,
 "nbformat_minor": 5
}
